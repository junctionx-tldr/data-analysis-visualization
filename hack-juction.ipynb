{
 "cells": [
  {
   "cell_type": "code",
   "execution_count": 1,
   "metadata": {},
   "outputs": [],
   "source": [
    "import requests\n",
    "\n",
    "url = \"https://api.hypr.cl/raw/\"\n",
    "\n",
    "headers = {\n",
    " 'x-api-key': \"**************************************\",\n",
    " 'time_start': \"2019-08-01T12:00:00Z\", 'time_stop': \"2019-08-01T12:00:10Z\", 'Accept': \"*/*\",\n",
    " 'Cache-Control': \"no-cache\", 'Host': \"api.hypr.cl\",\n",
    " 'Accept-Encoding': \"gzip, deflate\",\n",
    " 'Content-Length': \"0\", 'Connection': \"keep-alive\",\n",
    " 'cache-control': \"no-cache\" }\n",
    "\n",
    "response = requests.request(\"POST\", url, headers=headers)"
   ]
  },
  {
   "cell_type": "code",
   "execution_count": 2,
   "metadata": {},
   "outputs": [],
   "source": [
    "url1 = \"https://api.hypr.cl/station\"\n",
    "\n",
    "headers1 = {\n",
    " 'x-api-key': \"**************************************\",\n",
    " 'command': \"list\",\n",
    " 'Accept': \"*/*\", 'Cache-Control': \"no-cache\", 'Host': \"api.hypr.cl\", 'Accept-Encoding': \"gzip, deflate\", 'Content-Length': \"0\",\n",
    " 'Connection': \"keep-alive\",\n",
    " 'cache-control': \"no-cache\" }\n",
    "\n",
    "response1 = requests.request('POST',url1,headers=headers1)"
   ]
  },
  {
   "cell_type": "code",
   "execution_count": 3,
   "metadata": {},
   "outputs": [
    {
     "data": {
      "text/plain": [
       "200"
      ]
     },
     "execution_count": 3,
     "metadata": {},
     "output_type": "execute_result"
    }
   ],
   "source": [
    "response.status_code\n",
    "#content = response1.json()"
   ]
  },
  {
   "cell_type": "code",
   "execution_count": 4,
   "metadata": {},
   "outputs": [],
   "source": [
    "content = response.json()\n",
    "content1 = response1.json()"
   ]
  },
  {
   "cell_type": "code",
   "execution_count": 5,
   "metadata": {},
   "outputs": [
    {
     "data": {
      "text/plain": [
       "dict_keys(['status', 'raw'])"
      ]
     },
     "execution_count": 5,
     "metadata": {},
     "output_type": "execute_result"
    }
   ],
   "source": [
    "content.keys()"
   ]
  },
  {
   "cell_type": "code",
   "execution_count": 6,
   "metadata": {},
   "outputs": [],
   "source": [
    "import pandas as pd\n",
    "df = pd.DataFrame(content['raw'])\n",
    "df1 = pd.DataFrame(content1['list'])"
   ]
  },
  {
   "cell_type": "code",
   "execution_count": 7,
   "metadata": {},
   "outputs": [
    {
     "data": {
      "text/html": [
       "<div>\n",
       "<style scoped>\n",
       "    .dataframe tbody tr th:only-of-type {\n",
       "        vertical-align: middle;\n",
       "    }\n",
       "\n",
       "    .dataframe tbody tr th {\n",
       "        vertical-align: top;\n",
       "    }\n",
       "\n",
       "    .dataframe thead th {\n",
       "        text-align: right;\n",
       "    }\n",
       "</style>\n",
       "<table border=\"1\" class=\"dataframe\">\n",
       "  <thead>\n",
       "    <tr style=\"text-align: right;\">\n",
       "      <th></th>\n",
       "      <th>time</th>\n",
       "      <th>hash</th>\n",
       "      <th>latitude</th>\n",
       "      <th>longitude</th>\n",
       "      <th>serial</th>\n",
       "      <th>distance</th>\n",
       "      <th>rssi</th>\n",
       "    </tr>\n",
       "  </thead>\n",
       "  <tbody>\n",
       "    <tr>\n",
       "      <td>0</td>\n",
       "      <td>2019-08-01T12:00:00Z</td>\n",
       "      <td>0a494322afeaeaa8fb810fbeeb7daa14dd0fc9af5ebe2b...</td>\n",
       "      <td>60.447947</td>\n",
       "      <td>22.258656</td>\n",
       "      <td>00000000378bd7ea</td>\n",
       "      <td>11.70</td>\n",
       "      <td>-85</td>\n",
       "    </tr>\n",
       "    <tr>\n",
       "      <td>1</td>\n",
       "      <td>2019-08-01T12:00:00Z</td>\n",
       "      <td>0debdde77b998414b2d39bfb515928337ae9e84c41faef...</td>\n",
       "      <td>60.447947</td>\n",
       "      <td>22.258656</td>\n",
       "      <td>00000000378bd7ea</td>\n",
       "      <td>11.70</td>\n",
       "      <td>-85</td>\n",
       "    </tr>\n",
       "    <tr>\n",
       "      <td>2</td>\n",
       "      <td>2019-08-01T12:00:00Z</td>\n",
       "      <td>144afc51fc2443c7031a2912566eff2ce60226a49d6d2b...</td>\n",
       "      <td>60.165440</td>\n",
       "      <td>24.953980</td>\n",
       "      <td>0000000038d83d41</td>\n",
       "      <td>17.40</td>\n",
       "      <td>-90</td>\n",
       "    </tr>\n",
       "    <tr>\n",
       "      <td>3</td>\n",
       "      <td>2019-08-01T12:00:00Z</td>\n",
       "      <td>14c7e1511b70f4dd3359cbece1377aebb4d70531f5489e...</td>\n",
       "      <td>60.165440</td>\n",
       "      <td>24.953980</td>\n",
       "      <td>0000000038d83d41</td>\n",
       "      <td>27.28</td>\n",
       "      <td>-96</td>\n",
       "    </tr>\n",
       "    <tr>\n",
       "      <td>4</td>\n",
       "      <td>2019-08-01T12:00:00Z</td>\n",
       "      <td>165ebbb4090d47319ae370f0d0854fdc1f6b79499f8b2e...</td>\n",
       "      <td>60.165440</td>\n",
       "      <td>24.953980</td>\n",
       "      <td>0000000038d83d41</td>\n",
       "      <td>27.28</td>\n",
       "      <td>-96</td>\n",
       "    </tr>\n",
       "    <tr>\n",
       "      <td>5</td>\n",
       "      <td>2019-08-01T12:00:00Z</td>\n",
       "      <td>18167fae09beb238eb0a355497a7cd8695b98c6f1838c1...</td>\n",
       "      <td>60.153800</td>\n",
       "      <td>24.955950</td>\n",
       "      <td>0000000038bf9618</td>\n",
       "      <td>21.87</td>\n",
       "      <td>-93</td>\n",
       "    </tr>\n",
       "    <tr>\n",
       "      <td>6</td>\n",
       "      <td>2019-08-01T12:00:00Z</td>\n",
       "      <td>225b201dfd9c44747634aa0dd031c09fded36df2879982...</td>\n",
       "      <td>60.168290</td>\n",
       "      <td>24.942140</td>\n",
       "      <td>00000000afef4555</td>\n",
       "      <td>16.10</td>\n",
       "      <td>-89</td>\n",
       "    </tr>\n",
       "    <tr>\n",
       "      <td>7</td>\n",
       "      <td>2019-08-01T12:00:00Z</td>\n",
       "      <td>2681becf1795042fa372c89e61856da5519a49a90e230f...</td>\n",
       "      <td>60.164480</td>\n",
       "      <td>24.973230</td>\n",
       "      <td>0000000053c6c2be</td>\n",
       "      <td>25.36</td>\n",
       "      <td>-95</td>\n",
       "    </tr>\n",
       "    <tr>\n",
       "      <td>8</td>\n",
       "      <td>2019-08-01T12:00:00Z</td>\n",
       "      <td>2a93b61a3863ace54349d7a0937e4134fcc6d4dfcf064e...</td>\n",
       "      <td>60.154320</td>\n",
       "      <td>24.921100</td>\n",
       "      <td>0000000019fb59c4</td>\n",
       "      <td>16.10</td>\n",
       "      <td>-89</td>\n",
       "    </tr>\n",
       "    <tr>\n",
       "      <td>9</td>\n",
       "      <td>2019-08-01T12:00:00Z</td>\n",
       "      <td>2cbdb709bb456bc8bca60a86bfa0fd9e97905158240100...</td>\n",
       "      <td>60.168970</td>\n",
       "      <td>24.952220</td>\n",
       "      <td>00000000aa852af1</td>\n",
       "      <td>21.87</td>\n",
       "      <td>-93</td>\n",
       "    </tr>\n",
       "    <tr>\n",
       "      <td>10</td>\n",
       "      <td>2019-08-01T12:00:00Z</td>\n",
       "      <td>2efd972897e318100638d8474e49f7d4cbfb4d97c6ee23...</td>\n",
       "      <td>60.168970</td>\n",
       "      <td>24.952220</td>\n",
       "      <td>00000000aa852af1</td>\n",
       "      <td>18.79</td>\n",
       "      <td>-91</td>\n",
       "    </tr>\n",
       "    <tr>\n",
       "      <td>11</td>\n",
       "      <td>2019-08-01T12:00:00Z</td>\n",
       "      <td>35c6573a3fdd07d91dacb331df71f349703fbecb508756...</td>\n",
       "      <td>60.167620</td>\n",
       "      <td>24.954150</td>\n",
       "      <td>000000006b44cce7</td>\n",
       "      <td>4.50</td>\n",
       "      <td>-74</td>\n",
       "    </tr>\n",
       "    <tr>\n",
       "      <td>12</td>\n",
       "      <td>2019-08-01T12:00:00Z</td>\n",
       "      <td>42631cd011d41b5c2fecbbb39cc03d1f8e0bef8c28e3a5...</td>\n",
       "      <td>60.167620</td>\n",
       "      <td>24.954150</td>\n",
       "      <td>000000006b44cce7</td>\n",
       "      <td>20.28</td>\n",
       "      <td>-92</td>\n",
       "    </tr>\n",
       "    <tr>\n",
       "      <td>13</td>\n",
       "      <td>2019-08-01T12:00:00Z</td>\n",
       "      <td>496922153ce26b520018c7ba74cec1350805116d24dea4...</td>\n",
       "      <td>60.447947</td>\n",
       "      <td>22.258656</td>\n",
       "      <td>00000000378bd7ea</td>\n",
       "      <td>17.40</td>\n",
       "      <td>-90</td>\n",
       "    </tr>\n",
       "    <tr>\n",
       "      <td>14</td>\n",
       "      <td>2019-08-01T12:00:00Z</td>\n",
       "      <td>4c90d667a8bf7ea1281fcb14f35adcd1497fb1ba95366b...</td>\n",
       "      <td>60.166290</td>\n",
       "      <td>24.959570</td>\n",
       "      <td>00000000fb7600be</td>\n",
       "      <td>23.56</td>\n",
       "      <td>-94</td>\n",
       "    </tr>\n",
       "    <tr>\n",
       "      <td>15</td>\n",
       "      <td>2019-08-01T12:00:00Z</td>\n",
       "      <td>509dbd515126267ff7d1b2ead2334d39e65c40e52a51d1...</td>\n",
       "      <td>60.153800</td>\n",
       "      <td>24.955950</td>\n",
       "      <td>0000000038bf9618</td>\n",
       "      <td>29.32</td>\n",
       "      <td>-97</td>\n",
       "    </tr>\n",
       "    <tr>\n",
       "      <td>16</td>\n",
       "      <td>2019-08-01T12:00:00Z</td>\n",
       "      <td>50f91b4f4cb92911d319b35f4de2279b7aa649ddefff13...</td>\n",
       "      <td>60.447947</td>\n",
       "      <td>22.258656</td>\n",
       "      <td>00000000378bd7ea</td>\n",
       "      <td>18.79</td>\n",
       "      <td>-91</td>\n",
       "    </tr>\n",
       "    <tr>\n",
       "      <td>17</td>\n",
       "      <td>2019-08-01T12:00:00Z</td>\n",
       "      <td>53c82544a723cbe2c1f3d422588a5ab2a1c86bd3e2b385...</td>\n",
       "      <td>60.447947</td>\n",
       "      <td>22.258656</td>\n",
       "      <td>00000000378bd7ea</td>\n",
       "      <td>10.78</td>\n",
       "      <td>-84</td>\n",
       "    </tr>\n",
       "    <tr>\n",
       "      <td>18</td>\n",
       "      <td>2019-08-01T12:00:00Z</td>\n",
       "      <td>53dbe255fea37f5090b8b35afdd743747b903c68c20ae4...</td>\n",
       "      <td>60.153800</td>\n",
       "      <td>24.955950</td>\n",
       "      <td>0000000038bf9618</td>\n",
       "      <td>27.28</td>\n",
       "      <td>-96</td>\n",
       "    </tr>\n",
       "    <tr>\n",
       "      <td>19</td>\n",
       "      <td>2019-08-01T12:00:00Z</td>\n",
       "      <td>550534e45b2c130b5fe0c57978a29a8efc3d42d657bdff...</td>\n",
       "      <td>60.173000</td>\n",
       "      <td>24.925240</td>\n",
       "      <td>0000000096918cfa</td>\n",
       "      <td>17.40</td>\n",
       "      <td>-90</td>\n",
       "    </tr>\n",
       "  </tbody>\n",
       "</table>\n",
       "</div>"
      ],
      "text/plain": [
       "                    time                                               hash  \\\n",
       "0   2019-08-01T12:00:00Z  0a494322afeaeaa8fb810fbeeb7daa14dd0fc9af5ebe2b...   \n",
       "1   2019-08-01T12:00:00Z  0debdde77b998414b2d39bfb515928337ae9e84c41faef...   \n",
       "2   2019-08-01T12:00:00Z  144afc51fc2443c7031a2912566eff2ce60226a49d6d2b...   \n",
       "3   2019-08-01T12:00:00Z  14c7e1511b70f4dd3359cbece1377aebb4d70531f5489e...   \n",
       "4   2019-08-01T12:00:00Z  165ebbb4090d47319ae370f0d0854fdc1f6b79499f8b2e...   \n",
       "5   2019-08-01T12:00:00Z  18167fae09beb238eb0a355497a7cd8695b98c6f1838c1...   \n",
       "6   2019-08-01T12:00:00Z  225b201dfd9c44747634aa0dd031c09fded36df2879982...   \n",
       "7   2019-08-01T12:00:00Z  2681becf1795042fa372c89e61856da5519a49a90e230f...   \n",
       "8   2019-08-01T12:00:00Z  2a93b61a3863ace54349d7a0937e4134fcc6d4dfcf064e...   \n",
       "9   2019-08-01T12:00:00Z  2cbdb709bb456bc8bca60a86bfa0fd9e97905158240100...   \n",
       "10  2019-08-01T12:00:00Z  2efd972897e318100638d8474e49f7d4cbfb4d97c6ee23...   \n",
       "11  2019-08-01T12:00:00Z  35c6573a3fdd07d91dacb331df71f349703fbecb508756...   \n",
       "12  2019-08-01T12:00:00Z  42631cd011d41b5c2fecbbb39cc03d1f8e0bef8c28e3a5...   \n",
       "13  2019-08-01T12:00:00Z  496922153ce26b520018c7ba74cec1350805116d24dea4...   \n",
       "14  2019-08-01T12:00:00Z  4c90d667a8bf7ea1281fcb14f35adcd1497fb1ba95366b...   \n",
       "15  2019-08-01T12:00:00Z  509dbd515126267ff7d1b2ead2334d39e65c40e52a51d1...   \n",
       "16  2019-08-01T12:00:00Z  50f91b4f4cb92911d319b35f4de2279b7aa649ddefff13...   \n",
       "17  2019-08-01T12:00:00Z  53c82544a723cbe2c1f3d422588a5ab2a1c86bd3e2b385...   \n",
       "18  2019-08-01T12:00:00Z  53dbe255fea37f5090b8b35afdd743747b903c68c20ae4...   \n",
       "19  2019-08-01T12:00:00Z  550534e45b2c130b5fe0c57978a29a8efc3d42d657bdff...   \n",
       "\n",
       "     latitude  longitude            serial  distance  rssi  \n",
       "0   60.447947  22.258656  00000000378bd7ea     11.70   -85  \n",
       "1   60.447947  22.258656  00000000378bd7ea     11.70   -85  \n",
       "2   60.165440  24.953980  0000000038d83d41     17.40   -90  \n",
       "3   60.165440  24.953980  0000000038d83d41     27.28   -96  \n",
       "4   60.165440  24.953980  0000000038d83d41     27.28   -96  \n",
       "5   60.153800  24.955950  0000000038bf9618     21.87   -93  \n",
       "6   60.168290  24.942140  00000000afef4555     16.10   -89  \n",
       "7   60.164480  24.973230  0000000053c6c2be     25.36   -95  \n",
       "8   60.154320  24.921100  0000000019fb59c4     16.10   -89  \n",
       "9   60.168970  24.952220  00000000aa852af1     21.87   -93  \n",
       "10  60.168970  24.952220  00000000aa852af1     18.79   -91  \n",
       "11  60.167620  24.954150  000000006b44cce7      4.50   -74  \n",
       "12  60.167620  24.954150  000000006b44cce7     20.28   -92  \n",
       "13  60.447947  22.258656  00000000378bd7ea     17.40   -90  \n",
       "14  60.166290  24.959570  00000000fb7600be     23.56   -94  \n",
       "15  60.153800  24.955950  0000000038bf9618     29.32   -97  \n",
       "16  60.447947  22.258656  00000000378bd7ea     18.79   -91  \n",
       "17  60.447947  22.258656  00000000378bd7ea     10.78   -84  \n",
       "18  60.153800  24.955950  0000000038bf9618     27.28   -96  \n",
       "19  60.173000  24.925240  0000000096918cfa     17.40   -90  "
      ]
     },
     "execution_count": 7,
     "metadata": {},
     "output_type": "execute_result"
    }
   ],
   "source": [
    "df.head(20)"
   ]
  },
  {
   "cell_type": "code",
   "execution_count": 8,
   "metadata": {},
   "outputs": [
    {
     "data": {
      "text/html": [
       "<div>\n",
       "<style scoped>\n",
       "    .dataframe tbody tr th:only-of-type {\n",
       "        vertical-align: middle;\n",
       "    }\n",
       "\n",
       "    .dataframe tbody tr th {\n",
       "        vertical-align: top;\n",
       "    }\n",
       "\n",
       "    .dataframe thead th {\n",
       "        text-align: right;\n",
       "    }\n",
       "</style>\n",
       "<table border=\"1\" class=\"dataframe\">\n",
       "  <thead>\n",
       "    <tr style=\"text-align: right;\">\n",
       "      <th></th>\n",
       "      <th>serial</th>\n",
       "      <th>address</th>\n",
       "      <th>postalcode</th>\n",
       "      <th>city</th>\n",
       "      <th>country</th>\n",
       "      <th>description</th>\n",
       "      <th>latitude</th>\n",
       "      <th>longitude</th>\n",
       "      <th>group</th>\n",
       "      <th>alias</th>\n",
       "      <th>size</th>\n",
       "    </tr>\n",
       "  </thead>\n",
       "  <tbody>\n",
       "    <tr>\n",
       "      <td>0</td>\n",
       "      <td>0000000006dd41f6</td>\n",
       "      <td>Munkkisaarenlaituri</td>\n",
       "      <td>00150</td>\n",
       "      <td>Helsinki</td>\n",
       "      <td>Finland</td>\n",
       "      <td>Hernesaari LHC</td>\n",
       "      <td>60.14951</td>\n",
       "      <td>24.92138</td>\n",
       "      <td>hernesaari</td>\n",
       "      <td>None</td>\n",
       "      <td>30</td>\n",
       "    </tr>\n",
       "    <tr>\n",
       "      <td>1</td>\n",
       "      <td>000000000f4919c9</td>\n",
       "      <td>Mannerheimintie 22-24</td>\n",
       "      <td>00100</td>\n",
       "      <td>Helsinki</td>\n",
       "      <td>Finland</td>\n",
       "      <td>Amos Rex</td>\n",
       "      <td>60.17065</td>\n",
       "      <td>24.93641</td>\n",
       "      <td>default</td>\n",
       "      <td>None</td>\n",
       "      <td>30</td>\n",
       "    </tr>\n",
       "    <tr>\n",
       "      <td>2</td>\n",
       "      <td>0000000019fb59c4</td>\n",
       "      <td>Tyynenmerenkatu 8</td>\n",
       "      <td>00220</td>\n",
       "      <td>Helsinki</td>\n",
       "      <td>Finland</td>\n",
       "      <td>Lansiterminaali 1</td>\n",
       "      <td>60.15432</td>\n",
       "      <td>24.92110</td>\n",
       "      <td>lansiterminaali</td>\n",
       "      <td>None</td>\n",
       "      <td>30</td>\n",
       "    </tr>\n",
       "    <tr>\n",
       "      <td>3</td>\n",
       "      <td>00000000342570c2</td>\n",
       "      <td>Sibeliuksen puisto</td>\n",
       "      <td>00250</td>\n",
       "      <td>Helsinki</td>\n",
       "      <td>Finland</td>\n",
       "      <td>Sibelius Monumentti</td>\n",
       "      <td>60.18203</td>\n",
       "      <td>24.91341</td>\n",
       "      <td>default</td>\n",
       "      <td>None</td>\n",
       "      <td>30</td>\n",
       "    </tr>\n",
       "    <tr>\n",
       "      <td>4</td>\n",
       "      <td>0000000038bf9618</td>\n",
       "      <td>Mattolaituri</td>\n",
       "      <td>00140</td>\n",
       "      <td>Helsinki</td>\n",
       "      <td>Finland</td>\n",
       "      <td>Kaivopuiston ranta</td>\n",
       "      <td>60.15380</td>\n",
       "      <td>24.95595</td>\n",
       "      <td>default</td>\n",
       "      <td>None</td>\n",
       "      <td>30</td>\n",
       "    </tr>\n",
       "    <tr>\n",
       "      <td>5</td>\n",
       "      <td>0000000038d83d41</td>\n",
       "      <td>Pakkahuoneenlaituri</td>\n",
       "      <td>00100</td>\n",
       "      <td>Helsinki</td>\n",
       "      <td>Finland</td>\n",
       "      <td>Pakkahuoneenlaituri</td>\n",
       "      <td>60.16544</td>\n",
       "      <td>24.95398</td>\n",
       "      <td>default</td>\n",
       "      <td>None</td>\n",
       "      <td>30</td>\n",
       "    </tr>\n",
       "    <tr>\n",
       "      <td>6</td>\n",
       "      <td>000000004ef3150d</td>\n",
       "      <td>Tyynenmerenkatu 14</td>\n",
       "      <td>00180</td>\n",
       "      <td>Helsinki</td>\n",
       "      <td>Finland</td>\n",
       "      <td>Lansiterminaali 2</td>\n",
       "      <td>60.14947</td>\n",
       "      <td>24.91438</td>\n",
       "      <td>lansiterminaali</td>\n",
       "      <td>None</td>\n",
       "      <td>30</td>\n",
       "    </tr>\n",
       "    <tr>\n",
       "      <td>7</td>\n",
       "      <td>0000000053c6c2be</td>\n",
       "      <td>Katajanokanlaituri, valopylvas</td>\n",
       "      <td>00160</td>\n",
       "      <td>Helsinki</td>\n",
       "      <td>Finland</td>\n",
       "      <td>Katajanokan laituri 2</td>\n",
       "      <td>60.16448</td>\n",
       "      <td>24.97323</td>\n",
       "      <td>katajanokka</td>\n",
       "      <td>None</td>\n",
       "      <td>30</td>\n",
       "    </tr>\n",
       "    <tr>\n",
       "      <td>8</td>\n",
       "      <td>00000000675d5200</td>\n",
       "      <td>paasisaankaynti</td>\n",
       "      <td>00530</td>\n",
       "      <td>Helsinki</td>\n",
       "      <td>Finland</td>\n",
       "      <td>Hakaniemen kauppahalli 1</td>\n",
       "      <td>60.17918</td>\n",
       "      <td>24.95141</td>\n",
       "      <td>default</td>\n",
       "      <td>None</td>\n",
       "      <td>30</td>\n",
       "    </tr>\n",
       "    <tr>\n",
       "      <td>9</td>\n",
       "      <td>000000006b087f40</td>\n",
       "      <td>Kaivokatu 2</td>\n",
       "      <td>00100</td>\n",
       "      <td>Helsinki</td>\n",
       "      <td>Finland</td>\n",
       "      <td>Ateneum</td>\n",
       "      <td>60.17002</td>\n",
       "      <td>24.94407</td>\n",
       "      <td>default</td>\n",
       "      <td>None</td>\n",
       "      <td>30</td>\n",
       "    </tr>\n",
       "    <tr>\n",
       "      <td>10</td>\n",
       "      <td>000000006b44cce7</td>\n",
       "      <td>Etelaranta</td>\n",
       "      <td>00170</td>\n",
       "      <td>Helsinki</td>\n",
       "      <td>Finland</td>\n",
       "      <td>Kauppatori</td>\n",
       "      <td>60.16762</td>\n",
       "      <td>24.95415</td>\n",
       "      <td>default</td>\n",
       "      <td>None</td>\n",
       "      <td>30</td>\n",
       "    </tr>\n",
       "    <tr>\n",
       "      <td>11</td>\n",
       "      <td>0000000074f765a7</td>\n",
       "      <td>Toolonlahdenranta 1</td>\n",
       "      <td>00100</td>\n",
       "      <td>Helsinki</td>\n",
       "      <td>Finland</td>\n",
       "      <td>Oodi</td>\n",
       "      <td>60.17368</td>\n",
       "      <td>24.93810</td>\n",
       "      <td>default</td>\n",
       "      <td>None</td>\n",
       "      <td>30</td>\n",
       "    </tr>\n",
       "    <tr>\n",
       "      <td>12</td>\n",
       "      <td>000000007b5207b6</td>\n",
       "      <td>Torikadun sisaankaynti</td>\n",
       "      <td>00530</td>\n",
       "      <td>Helsinki</td>\n",
       "      <td>Finland</td>\n",
       "      <td>Hakaniemen kauppahalli 2</td>\n",
       "      <td>60.17919</td>\n",
       "      <td>24.95181</td>\n",
       "      <td>default</td>\n",
       "      <td>None</td>\n",
       "      <td>30</td>\n",
       "    </tr>\n",
       "    <tr>\n",
       "      <td>13</td>\n",
       "      <td>0000000096918cfa</td>\n",
       "      <td>Lutherinkatu 3</td>\n",
       "      <td>00100</td>\n",
       "      <td>Helsinki</td>\n",
       "      <td>Finland</td>\n",
       "      <td>Temppeliaukion kirkko</td>\n",
       "      <td>60.17300</td>\n",
       "      <td>24.92524</td>\n",
       "      <td>default</td>\n",
       "      <td>None</td>\n",
       "      <td>30</td>\n",
       "    </tr>\n",
       "    <tr>\n",
       "      <td>14</td>\n",
       "      <td>00000000a53ed894</td>\n",
       "      <td>Hernesaarenlaituri</td>\n",
       "      <td>00150</td>\n",
       "      <td>Helsinki</td>\n",
       "      <td>Finland</td>\n",
       "      <td>Hernesaari LHD</td>\n",
       "      <td>60.14699</td>\n",
       "      <td>24.92200</td>\n",
       "      <td>hernesaari</td>\n",
       "      <td>None</td>\n",
       "      <td>30</td>\n",
       "    </tr>\n",
       "    <tr>\n",
       "      <td>15</td>\n",
       "      <td>00000000aa852af1</td>\n",
       "      <td>Alexanterinkatu 24</td>\n",
       "      <td>00170</td>\n",
       "      <td>Helsinki</td>\n",
       "      <td>Finland</td>\n",
       "      <td>Senaatintori lantinen</td>\n",
       "      <td>60.16897</td>\n",
       "      <td>24.95222</td>\n",
       "      <td>default</td>\n",
       "      <td>None</td>\n",
       "      <td>30</td>\n",
       "    </tr>\n",
       "    <tr>\n",
       "      <td>16</td>\n",
       "      <td>00000000afef4555</td>\n",
       "      <td>Pohjoisespa 41</td>\n",
       "      <td>00100</td>\n",
       "      <td>Helsinki</td>\n",
       "      <td>Finland</td>\n",
       "      <td>Stockmann</td>\n",
       "      <td>60.16829</td>\n",
       "      <td>24.94214</td>\n",
       "      <td>default</td>\n",
       "      <td>None</td>\n",
       "      <td>30</td>\n",
       "    </tr>\n",
       "    <tr>\n",
       "      <td>17</td>\n",
       "      <td>00000000b33a8357</td>\n",
       "      <td>Narikkatorin sisaankaynti</td>\n",
       "      <td>00100</td>\n",
       "      <td>Helsinki</td>\n",
       "      <td>Finland</td>\n",
       "      <td>Kamppi</td>\n",
       "      <td>60.16900</td>\n",
       "      <td>24.93288</td>\n",
       "      <td>default</td>\n",
       "      <td>None</td>\n",
       "      <td>30</td>\n",
       "    </tr>\n",
       "    <tr>\n",
       "      <td>18</td>\n",
       "      <td>00000000cd16b8ef</td>\n",
       "      <td>Alexanterinkatu 20</td>\n",
       "      <td>00170</td>\n",
       "      <td>Helsinki</td>\n",
       "      <td>Finland</td>\n",
       "      <td>Senaatintori itainen</td>\n",
       "      <td>60.16899</td>\n",
       "      <td>24.95337</td>\n",
       "      <td>default</td>\n",
       "      <td>None</td>\n",
       "      <td>30</td>\n",
       "    </tr>\n",
       "    <tr>\n",
       "      <td>19</td>\n",
       "      <td>00000000d747f075</td>\n",
       "      <td>Katajanokanlaituri 8</td>\n",
       "      <td>00160</td>\n",
       "      <td>Helsinki</td>\n",
       "      <td>Finland</td>\n",
       "      <td>Katajanokan terminaali</td>\n",
       "      <td>60.16380</td>\n",
       "      <td>24.96846</td>\n",
       "      <td>katajanokka</td>\n",
       "      <td>None</td>\n",
       "      <td>30</td>\n",
       "    </tr>\n",
       "    <tr>\n",
       "      <td>20</td>\n",
       "      <td>00000000e8a064a4</td>\n",
       "      <td>Munkkisaarenlaituri</td>\n",
       "      <td>00150</td>\n",
       "      <td>Helsinki</td>\n",
       "      <td>Finland</td>\n",
       "      <td>Hernesaari LHB</td>\n",
       "      <td>60.15133</td>\n",
       "      <td>24.92329</td>\n",
       "      <td>hernesaari</td>\n",
       "      <td>None</td>\n",
       "      <td>30</td>\n",
       "    </tr>\n",
       "    <tr>\n",
       "      <td>21</td>\n",
       "      <td>00000000f1124bca</td>\n",
       "      <td>Olympiaranta 1</td>\n",
       "      <td>00100</td>\n",
       "      <td>Helsinki</td>\n",
       "      <td>Finland</td>\n",
       "      <td>Olympiaterminaali</td>\n",
       "      <td>60.16075</td>\n",
       "      <td>24.95883</td>\n",
       "      <td>olympia</td>\n",
       "      <td>None</td>\n",
       "      <td>30</td>\n",
       "    </tr>\n",
       "    <tr>\n",
       "      <td>22</td>\n",
       "      <td>00000000fb7600be</td>\n",
       "      <td>Katajanokka</td>\n",
       "      <td>00160</td>\n",
       "      <td>Helsinki</td>\n",
       "      <td>Finland</td>\n",
       "      <td>Katajanokan laituri</td>\n",
       "      <td>60.16629</td>\n",
       "      <td>24.95957</td>\n",
       "      <td>katajanokka</td>\n",
       "      <td>None</td>\n",
       "      <td>30</td>\n",
       "    </tr>\n",
       "    <tr>\n",
       "      <td>23</td>\n",
       "      <td>00000000fdda10fe</td>\n",
       "      <td>Erottajankatu 11</td>\n",
       "      <td>00130</td>\n",
       "      <td>Helsinki</td>\n",
       "      <td>Finland</td>\n",
       "      <td>Dianapuisto</td>\n",
       "      <td>60.16531</td>\n",
       "      <td>24.94420</td>\n",
       "      <td>default</td>\n",
       "      <td>None</td>\n",
       "      <td>30</td>\n",
       "    </tr>\n",
       "    <tr>\n",
       "      <td>24</td>\n",
       "      <td>00000000fffb8cf0</td>\n",
       "      <td>Paalaituri</td>\n",
       "      <td>00190</td>\n",
       "      <td>Helsinki</td>\n",
       "      <td>Finland</td>\n",
       "      <td>Suomenlinna</td>\n",
       "      <td>60.14900</td>\n",
       "      <td>24.98430</td>\n",
       "      <td>default</td>\n",
       "      <td>None</td>\n",
       "      <td>30</td>\n",
       "    </tr>\n",
       "  </tbody>\n",
       "</table>\n",
       "</div>"
      ],
      "text/plain": [
       "              serial                         address postalcode      city  \\\n",
       "0   0000000006dd41f6             Munkkisaarenlaituri      00150  Helsinki   \n",
       "1   000000000f4919c9           Mannerheimintie 22-24      00100  Helsinki   \n",
       "2   0000000019fb59c4               Tyynenmerenkatu 8      00220  Helsinki   \n",
       "3   00000000342570c2              Sibeliuksen puisto      00250  Helsinki   \n",
       "4   0000000038bf9618                    Mattolaituri      00140  Helsinki   \n",
       "5   0000000038d83d41             Pakkahuoneenlaituri      00100  Helsinki   \n",
       "6   000000004ef3150d              Tyynenmerenkatu 14      00180  Helsinki   \n",
       "7   0000000053c6c2be  Katajanokanlaituri, valopylvas      00160  Helsinki   \n",
       "8   00000000675d5200                 paasisaankaynti      00530  Helsinki   \n",
       "9   000000006b087f40                     Kaivokatu 2      00100  Helsinki   \n",
       "10  000000006b44cce7                      Etelaranta      00170  Helsinki   \n",
       "11  0000000074f765a7             Toolonlahdenranta 1      00100  Helsinki   \n",
       "12  000000007b5207b6          Torikadun sisaankaynti      00530  Helsinki   \n",
       "13  0000000096918cfa                  Lutherinkatu 3      00100  Helsinki   \n",
       "14  00000000a53ed894              Hernesaarenlaituri      00150  Helsinki   \n",
       "15  00000000aa852af1              Alexanterinkatu 24      00170  Helsinki   \n",
       "16  00000000afef4555                  Pohjoisespa 41      00100  Helsinki   \n",
       "17  00000000b33a8357       Narikkatorin sisaankaynti      00100  Helsinki   \n",
       "18  00000000cd16b8ef              Alexanterinkatu 20      00170  Helsinki   \n",
       "19  00000000d747f075            Katajanokanlaituri 8      00160  Helsinki   \n",
       "20  00000000e8a064a4             Munkkisaarenlaituri      00150  Helsinki   \n",
       "21  00000000f1124bca                  Olympiaranta 1      00100  Helsinki   \n",
       "22  00000000fb7600be                     Katajanokka      00160  Helsinki   \n",
       "23  00000000fdda10fe                Erottajankatu 11      00130  Helsinki   \n",
       "24  00000000fffb8cf0                      Paalaituri      00190  Helsinki   \n",
       "\n",
       "    country               description  latitude  longitude            group  \\\n",
       "0   Finland            Hernesaari LHC  60.14951   24.92138       hernesaari   \n",
       "1   Finland                  Amos Rex  60.17065   24.93641          default   \n",
       "2   Finland         Lansiterminaali 1  60.15432   24.92110  lansiterminaali   \n",
       "3   Finland       Sibelius Monumentti  60.18203   24.91341          default   \n",
       "4   Finland        Kaivopuiston ranta  60.15380   24.95595          default   \n",
       "5   Finland       Pakkahuoneenlaituri  60.16544   24.95398          default   \n",
       "6   Finland         Lansiterminaali 2  60.14947   24.91438  lansiterminaali   \n",
       "7   Finland     Katajanokan laituri 2  60.16448   24.97323      katajanokka   \n",
       "8   Finland  Hakaniemen kauppahalli 1  60.17918   24.95141          default   \n",
       "9   Finland                   Ateneum  60.17002   24.94407          default   \n",
       "10  Finland                Kauppatori  60.16762   24.95415          default   \n",
       "11  Finland                      Oodi  60.17368   24.93810          default   \n",
       "12  Finland  Hakaniemen kauppahalli 2  60.17919   24.95181          default   \n",
       "13  Finland     Temppeliaukion kirkko  60.17300   24.92524          default   \n",
       "14  Finland            Hernesaari LHD  60.14699   24.92200       hernesaari   \n",
       "15  Finland     Senaatintori lantinen  60.16897   24.95222          default   \n",
       "16  Finland                 Stockmann  60.16829   24.94214          default   \n",
       "17  Finland                    Kamppi  60.16900   24.93288          default   \n",
       "18  Finland      Senaatintori itainen  60.16899   24.95337          default   \n",
       "19  Finland    Katajanokan terminaali  60.16380   24.96846      katajanokka   \n",
       "20  Finland            Hernesaari LHB  60.15133   24.92329       hernesaari   \n",
       "21  Finland         Olympiaterminaali  60.16075   24.95883          olympia   \n",
       "22  Finland       Katajanokan laituri  60.16629   24.95957      katajanokka   \n",
       "23  Finland               Dianapuisto  60.16531   24.94420          default   \n",
       "24  Finland               Suomenlinna  60.14900   24.98430          default   \n",
       "\n",
       "   alias  size  \n",
       "0   None    30  \n",
       "1   None    30  \n",
       "2   None    30  \n",
       "3   None    30  \n",
       "4   None    30  \n",
       "5   None    30  \n",
       "6   None    30  \n",
       "7   None    30  \n",
       "8   None    30  \n",
       "9   None    30  \n",
       "10  None    30  \n",
       "11  None    30  \n",
       "12  None    30  \n",
       "13  None    30  \n",
       "14  None    30  \n",
       "15  None    30  \n",
       "16  None    30  \n",
       "17  None    30  \n",
       "18  None    30  \n",
       "19  None    30  \n",
       "20  None    30  \n",
       "21  None    30  \n",
       "22  None    30  \n",
       "23  None    30  \n",
       "24  None    30  "
      ]
     },
     "execution_count": 8,
     "metadata": {},
     "output_type": "execute_result"
    }
   ],
   "source": [
    "df1['size'] = 30\n",
    "df1"
   ]
  },
  {
   "cell_type": "code",
   "execution_count": 9,
   "metadata": {},
   "outputs": [],
   "source": [
    "# import plotly.express as px\n",
    "\n",
    "# px.set_mapbox_access_token('pk.eyJ1IjoiYmxlc3NlZDY2IiwiYSI6ImNrMWhudTkzbDBoYzMzaHBjZm90OGZkcWMifQ.opsS4eksuFXKYgh4x_T4Sg')\n",
    "# px.scatter_mapbox(df1,\n",
    "#                   size = 'size',\n",
    "#                  lat='latitude',\n",
    "#                  lon='longitude')"
   ]
  },
  {
   "cell_type": "code",
   "execution_count": 10,
   "metadata": {},
   "outputs": [],
   "source": [
    "#merge the datapoints and sum the number of people per minute\n",
    "\n",
    "df2 = df.merge(df1,on='serial',how='inner')"
   ]
  },
  {
   "cell_type": "code",
   "execution_count": 11,
   "metadata": {},
   "outputs": [
    {
     "data": {
      "text/plain": [
       "(3875, 17)"
      ]
     },
     "execution_count": 11,
     "metadata": {},
     "output_type": "execute_result"
    }
   ],
   "source": [
    "df2.shape"
   ]
  },
  {
   "cell_type": "code",
   "execution_count": 12,
   "metadata": {},
   "outputs": [
    {
     "data": {
      "text/plain": [
       "(4132, 7)"
      ]
     },
     "execution_count": 12,
     "metadata": {},
     "output_type": "execute_result"
    }
   ],
   "source": [
    "df.shape"
   ]
  },
  {
   "cell_type": "code",
   "execution_count": 13,
   "metadata": {},
   "outputs": [
    {
     "data": {
      "text/plain": [
       "691"
      ]
     },
     "execution_count": 13,
     "metadata": {},
     "output_type": "execute_result"
    }
   ],
   "source": [
    "import numpy as np\n",
    "\n",
    "df2['hash'].nunique()  #use nunique to count the number of unique entries of hashes"
   ]
  },
  {
   "cell_type": "code",
   "execution_count": 14,
   "metadata": {},
   "outputs": [
    {
     "data": {
      "text/html": [
       "<div>\n",
       "<style scoped>\n",
       "    .dataframe tbody tr th:only-of-type {\n",
       "        vertical-align: middle;\n",
       "    }\n",
       "\n",
       "    .dataframe tbody tr th {\n",
       "        vertical-align: top;\n",
       "    }\n",
       "\n",
       "    .dataframe thead th {\n",
       "        text-align: right;\n",
       "    }\n",
       "</style>\n",
       "<table border=\"1\" class=\"dataframe\">\n",
       "  <thead>\n",
       "    <tr style=\"text-align: right;\">\n",
       "      <th></th>\n",
       "      <th>time</th>\n",
       "      <th>hash</th>\n",
       "      <th>latitude_x</th>\n",
       "      <th>longitude_x</th>\n",
       "      <th>serial</th>\n",
       "      <th>distance</th>\n",
       "      <th>rssi</th>\n",
       "      <th>address</th>\n",
       "      <th>postalcode</th>\n",
       "      <th>city</th>\n",
       "      <th>country</th>\n",
       "      <th>description</th>\n",
       "      <th>latitude_y</th>\n",
       "      <th>longitude_y</th>\n",
       "      <th>group</th>\n",
       "      <th>alias</th>\n",
       "      <th>size</th>\n",
       "    </tr>\n",
       "  </thead>\n",
       "  <tbody>\n",
       "    <tr>\n",
       "      <td>0</td>\n",
       "      <td>2019-08-01T12:00:00Z</td>\n",
       "      <td>144afc51fc2443c7031a2912566eff2ce60226a49d6d2b...</td>\n",
       "      <td>60.16544</td>\n",
       "      <td>24.95398</td>\n",
       "      <td>0000000038d83d41</td>\n",
       "      <td>17.40</td>\n",
       "      <td>-90</td>\n",
       "      <td>Pakkahuoneenlaituri</td>\n",
       "      <td>00100</td>\n",
       "      <td>Helsinki</td>\n",
       "      <td>Finland</td>\n",
       "      <td>Pakkahuoneenlaituri</td>\n",
       "      <td>60.16544</td>\n",
       "      <td>24.95398</td>\n",
       "      <td>default</td>\n",
       "      <td>None</td>\n",
       "      <td>30</td>\n",
       "    </tr>\n",
       "    <tr>\n",
       "      <td>1</td>\n",
       "      <td>2019-08-01T12:00:00Z</td>\n",
       "      <td>14c7e1511b70f4dd3359cbece1377aebb4d70531f5489e...</td>\n",
       "      <td>60.16544</td>\n",
       "      <td>24.95398</td>\n",
       "      <td>0000000038d83d41</td>\n",
       "      <td>27.28</td>\n",
       "      <td>-96</td>\n",
       "      <td>Pakkahuoneenlaituri</td>\n",
       "      <td>00100</td>\n",
       "      <td>Helsinki</td>\n",
       "      <td>Finland</td>\n",
       "      <td>Pakkahuoneenlaituri</td>\n",
       "      <td>60.16544</td>\n",
       "      <td>24.95398</td>\n",
       "      <td>default</td>\n",
       "      <td>None</td>\n",
       "      <td>30</td>\n",
       "    </tr>\n",
       "    <tr>\n",
       "      <td>2</td>\n",
       "      <td>2019-08-01T12:00:00Z</td>\n",
       "      <td>165ebbb4090d47319ae370f0d0854fdc1f6b79499f8b2e...</td>\n",
       "      <td>60.16544</td>\n",
       "      <td>24.95398</td>\n",
       "      <td>0000000038d83d41</td>\n",
       "      <td>27.28</td>\n",
       "      <td>-96</td>\n",
       "      <td>Pakkahuoneenlaituri</td>\n",
       "      <td>00100</td>\n",
       "      <td>Helsinki</td>\n",
       "      <td>Finland</td>\n",
       "      <td>Pakkahuoneenlaituri</td>\n",
       "      <td>60.16544</td>\n",
       "      <td>24.95398</td>\n",
       "      <td>default</td>\n",
       "      <td>None</td>\n",
       "      <td>30</td>\n",
       "    </tr>\n",
       "    <tr>\n",
       "      <td>3</td>\n",
       "      <td>2019-08-01T12:00:00Z</td>\n",
       "      <td>f0658ab84466fd2b70b305787976c9cc96062ec03a8307...</td>\n",
       "      <td>60.16544</td>\n",
       "      <td>24.95398</td>\n",
       "      <td>0000000038d83d41</td>\n",
       "      <td>11.70</td>\n",
       "      <td>-85</td>\n",
       "      <td>Pakkahuoneenlaituri</td>\n",
       "      <td>00100</td>\n",
       "      <td>Helsinki</td>\n",
       "      <td>Finland</td>\n",
       "      <td>Pakkahuoneenlaituri</td>\n",
       "      <td>60.16544</td>\n",
       "      <td>24.95398</td>\n",
       "      <td>default</td>\n",
       "      <td>None</td>\n",
       "      <td>30</td>\n",
       "    </tr>\n",
       "    <tr>\n",
       "      <td>4</td>\n",
       "      <td>2019-08-01T12:00:00Z</td>\n",
       "      <td>0e4c038648ee23899b76befdddd03584c991c201f5450a...</td>\n",
       "      <td>60.16544</td>\n",
       "      <td>24.95398</td>\n",
       "      <td>0000000038d83d41</td>\n",
       "      <td>20.28</td>\n",
       "      <td>-92</td>\n",
       "      <td>Pakkahuoneenlaituri</td>\n",
       "      <td>00100</td>\n",
       "      <td>Helsinki</td>\n",
       "      <td>Finland</td>\n",
       "      <td>Pakkahuoneenlaituri</td>\n",
       "      <td>60.16544</td>\n",
       "      <td>24.95398</td>\n",
       "      <td>default</td>\n",
       "      <td>None</td>\n",
       "      <td>30</td>\n",
       "    </tr>\n",
       "    <tr>\n",
       "      <td>...</td>\n",
       "      <td>...</td>\n",
       "      <td>...</td>\n",
       "      <td>...</td>\n",
       "      <td>...</td>\n",
       "      <td>...</td>\n",
       "      <td>...</td>\n",
       "      <td>...</td>\n",
       "      <td>...</td>\n",
       "      <td>...</td>\n",
       "      <td>...</td>\n",
       "      <td>...</td>\n",
       "      <td>...</td>\n",
       "      <td>...</td>\n",
       "      <td>...</td>\n",
       "      <td>...</td>\n",
       "      <td>...</td>\n",
       "      <td>...</td>\n",
       "    </tr>\n",
       "    <tr>\n",
       "      <td>3713</td>\n",
       "      <td>2019-08-01T12:00:00Z</td>\n",
       "      <td>ecb8064e50753cbf52bf2558814bce87d260f010c9a8a9...</td>\n",
       "      <td>60.14947</td>\n",
       "      <td>24.91438</td>\n",
       "      <td>000000004ef3150d</td>\n",
       "      <td>8.38</td>\n",
       "      <td>-81</td>\n",
       "      <td>Tyynenmerenkatu 14</td>\n",
       "      <td>00180</td>\n",
       "      <td>Helsinki</td>\n",
       "      <td>Finland</td>\n",
       "      <td>Lansiterminaali 2</td>\n",
       "      <td>60.14947</td>\n",
       "      <td>24.91438</td>\n",
       "      <td>lansiterminaali</td>\n",
       "      <td>None</td>\n",
       "      <td>30</td>\n",
       "    </tr>\n",
       "    <tr>\n",
       "      <td>3839</td>\n",
       "      <td>2019-08-01T12:00:00Z</td>\n",
       "      <td>84af3c810fda51d1462127f4d42037309bb44daef7463c...</td>\n",
       "      <td>60.14699</td>\n",
       "      <td>24.92200</td>\n",
       "      <td>00000000a53ed894</td>\n",
       "      <td>27.28</td>\n",
       "      <td>-96</td>\n",
       "      <td>Hernesaarenlaituri</td>\n",
       "      <td>00150</td>\n",
       "      <td>Helsinki</td>\n",
       "      <td>Finland</td>\n",
       "      <td>Hernesaari LHD</td>\n",
       "      <td>60.14699</td>\n",
       "      <td>24.92200</td>\n",
       "      <td>hernesaari</td>\n",
       "      <td>None</td>\n",
       "      <td>30</td>\n",
       "    </tr>\n",
       "    <tr>\n",
       "      <td>3858</td>\n",
       "      <td>2019-08-01T12:00:00Z</td>\n",
       "      <td>8c14d4ef0bfc5570b4049535fee86d357fed359801c922...</td>\n",
       "      <td>60.15133</td>\n",
       "      <td>24.92329</td>\n",
       "      <td>00000000e8a064a4</td>\n",
       "      <td>29.32</td>\n",
       "      <td>-97</td>\n",
       "      <td>Munkkisaarenlaituri</td>\n",
       "      <td>00150</td>\n",
       "      <td>Helsinki</td>\n",
       "      <td>Finland</td>\n",
       "      <td>Hernesaari LHB</td>\n",
       "      <td>60.15133</td>\n",
       "      <td>24.92329</td>\n",
       "      <td>hernesaari</td>\n",
       "      <td>None</td>\n",
       "      <td>30</td>\n",
       "    </tr>\n",
       "    <tr>\n",
       "      <td>3859</td>\n",
       "      <td>2019-08-01T12:00:00Z</td>\n",
       "      <td>d6ef0b345b6dd3590a47e2159ea4c45d0244ffc023887e...</td>\n",
       "      <td>60.15133</td>\n",
       "      <td>24.92329</td>\n",
       "      <td>00000000e8a064a4</td>\n",
       "      <td>29.32</td>\n",
       "      <td>-97</td>\n",
       "      <td>Munkkisaarenlaituri</td>\n",
       "      <td>00150</td>\n",
       "      <td>Helsinki</td>\n",
       "      <td>Finland</td>\n",
       "      <td>Hernesaari LHB</td>\n",
       "      <td>60.15133</td>\n",
       "      <td>24.92329</td>\n",
       "      <td>hernesaari</td>\n",
       "      <td>None</td>\n",
       "      <td>30</td>\n",
       "    </tr>\n",
       "    <tr>\n",
       "      <td>3860</td>\n",
       "      <td>2019-08-01T12:00:00Z</td>\n",
       "      <td>d80f7d5b70f3e00064cbfa1ca0c5c6d056cae99e47735a...</td>\n",
       "      <td>60.15133</td>\n",
       "      <td>24.92329</td>\n",
       "      <td>00000000e8a064a4</td>\n",
       "      <td>18.79</td>\n",
       "      <td>-91</td>\n",
       "      <td>Munkkisaarenlaituri</td>\n",
       "      <td>00150</td>\n",
       "      <td>Helsinki</td>\n",
       "      <td>Finland</td>\n",
       "      <td>Hernesaari LHB</td>\n",
       "      <td>60.15133</td>\n",
       "      <td>24.92329</td>\n",
       "      <td>hernesaari</td>\n",
       "      <td>None</td>\n",
       "      <td>30</td>\n",
       "    </tr>\n",
       "  </tbody>\n",
       "</table>\n",
       "<p>358 rows × 17 columns</p>\n",
       "</div>"
      ],
      "text/plain": [
       "                      time                                               hash  \\\n",
       "0     2019-08-01T12:00:00Z  144afc51fc2443c7031a2912566eff2ce60226a49d6d2b...   \n",
       "1     2019-08-01T12:00:00Z  14c7e1511b70f4dd3359cbece1377aebb4d70531f5489e...   \n",
       "2     2019-08-01T12:00:00Z  165ebbb4090d47319ae370f0d0854fdc1f6b79499f8b2e...   \n",
       "3     2019-08-01T12:00:00Z  f0658ab84466fd2b70b305787976c9cc96062ec03a8307...   \n",
       "4     2019-08-01T12:00:00Z  0e4c038648ee23899b76befdddd03584c991c201f5450a...   \n",
       "...                    ...                                                ...   \n",
       "3713  2019-08-01T12:00:00Z  ecb8064e50753cbf52bf2558814bce87d260f010c9a8a9...   \n",
       "3839  2019-08-01T12:00:00Z  84af3c810fda51d1462127f4d42037309bb44daef7463c...   \n",
       "3858  2019-08-01T12:00:00Z  8c14d4ef0bfc5570b4049535fee86d357fed359801c922...   \n",
       "3859  2019-08-01T12:00:00Z  d6ef0b345b6dd3590a47e2159ea4c45d0244ffc023887e...   \n",
       "3860  2019-08-01T12:00:00Z  d80f7d5b70f3e00064cbfa1ca0c5c6d056cae99e47735a...   \n",
       "\n",
       "      latitude_x  longitude_x            serial  distance  rssi  \\\n",
       "0       60.16544     24.95398  0000000038d83d41     17.40   -90   \n",
       "1       60.16544     24.95398  0000000038d83d41     27.28   -96   \n",
       "2       60.16544     24.95398  0000000038d83d41     27.28   -96   \n",
       "3       60.16544     24.95398  0000000038d83d41     11.70   -85   \n",
       "4       60.16544     24.95398  0000000038d83d41     20.28   -92   \n",
       "...          ...          ...               ...       ...   ...   \n",
       "3713    60.14947     24.91438  000000004ef3150d      8.38   -81   \n",
       "3839    60.14699     24.92200  00000000a53ed894     27.28   -96   \n",
       "3858    60.15133     24.92329  00000000e8a064a4     29.32   -97   \n",
       "3859    60.15133     24.92329  00000000e8a064a4     29.32   -97   \n",
       "3860    60.15133     24.92329  00000000e8a064a4     18.79   -91   \n",
       "\n",
       "                  address postalcode      city  country          description  \\\n",
       "0     Pakkahuoneenlaituri      00100  Helsinki  Finland  Pakkahuoneenlaituri   \n",
       "1     Pakkahuoneenlaituri      00100  Helsinki  Finland  Pakkahuoneenlaituri   \n",
       "2     Pakkahuoneenlaituri      00100  Helsinki  Finland  Pakkahuoneenlaituri   \n",
       "3     Pakkahuoneenlaituri      00100  Helsinki  Finland  Pakkahuoneenlaituri   \n",
       "4     Pakkahuoneenlaituri      00100  Helsinki  Finland  Pakkahuoneenlaituri   \n",
       "...                   ...        ...       ...      ...                  ...   \n",
       "3713   Tyynenmerenkatu 14      00180  Helsinki  Finland    Lansiterminaali 2   \n",
       "3839   Hernesaarenlaituri      00150  Helsinki  Finland       Hernesaari LHD   \n",
       "3858  Munkkisaarenlaituri      00150  Helsinki  Finland       Hernesaari LHB   \n",
       "3859  Munkkisaarenlaituri      00150  Helsinki  Finland       Hernesaari LHB   \n",
       "3860  Munkkisaarenlaituri      00150  Helsinki  Finland       Hernesaari LHB   \n",
       "\n",
       "      latitude_y  longitude_y            group alias  size  \n",
       "0       60.16544     24.95398          default  None    30  \n",
       "1       60.16544     24.95398          default  None    30  \n",
       "2       60.16544     24.95398          default  None    30  \n",
       "3       60.16544     24.95398          default  None    30  \n",
       "4       60.16544     24.95398          default  None    30  \n",
       "...          ...          ...              ...   ...   ...  \n",
       "3713    60.14947     24.91438  lansiterminaali  None    30  \n",
       "3839    60.14699     24.92200       hernesaari  None    30  \n",
       "3858    60.15133     24.92329       hernesaari  None    30  \n",
       "3859    60.15133     24.92329       hernesaari  None    30  \n",
       "3860    60.15133     24.92329       hernesaari  None    30  \n",
       "\n",
       "[358 rows x 17 columns]"
      ]
     },
     "execution_count": 14,
     "metadata": {},
     "output_type": "execute_result"
    }
   ],
   "source": [
    "from datetime import datetime\n",
    "\n",
    "df2[df2['time'] == '2019-08-01T12:00:00Z']\n",
    "#df2['time'] =  pd.to_datetime(df2['time'], format='%d%b%Y:%H:%M:%S.%f')"
   ]
  },
  {
   "cell_type": "code",
   "execution_count": 15,
   "metadata": {},
   "outputs": [],
   "source": [
    "#We can add a counts column to count each hash for a serial\n",
    "\n",
    "df2['counts'] = df2.groupby(['serial'])['hash'].transform('count')"
   ]
  },
  {
   "cell_type": "code",
   "execution_count": 16,
   "metadata": {},
   "outputs": [
    {
     "data": {
      "text/plain": [
       "array(['2019-08-01T12:00:00Z', '2019-08-01T12:00:01Z',\n",
       "       '2019-08-01T12:00:02Z', '2019-08-01T12:00:03Z',\n",
       "       '2019-08-01T12:00:04Z', '2019-08-01T12:00:05Z',\n",
       "       '2019-08-01T12:00:06Z', '2019-08-01T12:00:07Z',\n",
       "       '2019-08-01T12:00:08Z', '2019-08-01T12:00:09Z',\n",
       "       '2019-08-01T12:00:10Z'], dtype=object)"
      ]
     },
     "execution_count": 16,
     "metadata": {},
     "output_type": "execute_result"
    }
   ],
   "source": [
    "df2['time'].unique()"
   ]
  },
  {
   "cell_type": "code",
   "execution_count": 17,
   "metadata": {},
   "outputs": [],
   "source": [
    "#drop unwanted columns \n",
    "df2 = df2.drop(['latitude_y','longitude_y','group','alias'],axis=1)\n",
    "\n",
    "#lets do some cleaning of the time.\n",
    "#df2['time'] = df2['time'].replace({'Z':' ','T':' '},inplace=False,regex=True)"
   ]
  },
  {
   "cell_type": "code",
   "execution_count": 18,
   "metadata": {},
   "outputs": [],
   "source": [
    "#split the time column\n",
    "df2['time'] = df2['time'].str.split('T')"
   ]
  },
  {
   "cell_type": "code",
   "execution_count": 19,
   "metadata": {},
   "outputs": [],
   "source": [
    "#create seperate date and times column\n",
    "df2[['date','times']] = pd.DataFrame(df2.time.values.tolist(), index= df2.index)\n",
    "\n",
    "#use strftime to change the columns to recognizable date-time\n",
    "df2['date'] = pd.to_datetime(df2['date'],format='%Y-%m-%d')\n",
    "\n",
    "#lets drop the Z letter\n",
    "df2['times'] = df2['times'].replace('Z','',regex=True)"
   ]
  },
  {
   "cell_type": "code",
   "execution_count": 20,
   "metadata": {},
   "outputs": [
    {
     "data": {
      "text/html": [
       "<div>\n",
       "<style scoped>\n",
       "    .dataframe tbody tr th:only-of-type {\n",
       "        vertical-align: middle;\n",
       "    }\n",
       "\n",
       "    .dataframe tbody tr th {\n",
       "        vertical-align: top;\n",
       "    }\n",
       "\n",
       "    .dataframe thead th {\n",
       "        text-align: right;\n",
       "    }\n",
       "</style>\n",
       "<table border=\"1\" class=\"dataframe\">\n",
       "  <thead>\n",
       "    <tr style=\"text-align: right;\">\n",
       "      <th></th>\n",
       "      <th>time</th>\n",
       "      <th>hash</th>\n",
       "      <th>latitude_x</th>\n",
       "      <th>longitude_x</th>\n",
       "      <th>serial</th>\n",
       "      <th>distance</th>\n",
       "      <th>rssi</th>\n",
       "      <th>address</th>\n",
       "      <th>postalcode</th>\n",
       "      <th>city</th>\n",
       "      <th>country</th>\n",
       "      <th>description</th>\n",
       "      <th>size</th>\n",
       "      <th>counts</th>\n",
       "      <th>date</th>\n",
       "      <th>times</th>\n",
       "    </tr>\n",
       "  </thead>\n",
       "  <tbody>\n",
       "    <tr>\n",
       "      <td>0</td>\n",
       "      <td>[2019-08-01, 12:00:00Z]</td>\n",
       "      <td>144afc51fc2443c7031a2912566eff2ce60226a49d6d2b...</td>\n",
       "      <td>60.16544</td>\n",
       "      <td>24.95398</td>\n",
       "      <td>0000000038d83d41</td>\n",
       "      <td>17.40</td>\n",
       "      <td>-90</td>\n",
       "      <td>Pakkahuoneenlaituri</td>\n",
       "      <td>00100</td>\n",
       "      <td>Helsinki</td>\n",
       "      <td>Finland</td>\n",
       "      <td>Pakkahuoneenlaituri</td>\n",
       "      <td>30</td>\n",
       "      <td>130</td>\n",
       "      <td>2019-08-01</td>\n",
       "      <td>12:00:00</td>\n",
       "    </tr>\n",
       "    <tr>\n",
       "      <td>1</td>\n",
       "      <td>[2019-08-01, 12:00:00Z]</td>\n",
       "      <td>14c7e1511b70f4dd3359cbece1377aebb4d70531f5489e...</td>\n",
       "      <td>60.16544</td>\n",
       "      <td>24.95398</td>\n",
       "      <td>0000000038d83d41</td>\n",
       "      <td>27.28</td>\n",
       "      <td>-96</td>\n",
       "      <td>Pakkahuoneenlaituri</td>\n",
       "      <td>00100</td>\n",
       "      <td>Helsinki</td>\n",
       "      <td>Finland</td>\n",
       "      <td>Pakkahuoneenlaituri</td>\n",
       "      <td>30</td>\n",
       "      <td>130</td>\n",
       "      <td>2019-08-01</td>\n",
       "      <td>12:00:00</td>\n",
       "    </tr>\n",
       "    <tr>\n",
       "      <td>2</td>\n",
       "      <td>[2019-08-01, 12:00:00Z]</td>\n",
       "      <td>165ebbb4090d47319ae370f0d0854fdc1f6b79499f8b2e...</td>\n",
       "      <td>60.16544</td>\n",
       "      <td>24.95398</td>\n",
       "      <td>0000000038d83d41</td>\n",
       "      <td>27.28</td>\n",
       "      <td>-96</td>\n",
       "      <td>Pakkahuoneenlaituri</td>\n",
       "      <td>00100</td>\n",
       "      <td>Helsinki</td>\n",
       "      <td>Finland</td>\n",
       "      <td>Pakkahuoneenlaituri</td>\n",
       "      <td>30</td>\n",
       "      <td>130</td>\n",
       "      <td>2019-08-01</td>\n",
       "      <td>12:00:00</td>\n",
       "    </tr>\n",
       "    <tr>\n",
       "      <td>3</td>\n",
       "      <td>[2019-08-01, 12:00:00Z]</td>\n",
       "      <td>f0658ab84466fd2b70b305787976c9cc96062ec03a8307...</td>\n",
       "      <td>60.16544</td>\n",
       "      <td>24.95398</td>\n",
       "      <td>0000000038d83d41</td>\n",
       "      <td>11.70</td>\n",
       "      <td>-85</td>\n",
       "      <td>Pakkahuoneenlaituri</td>\n",
       "      <td>00100</td>\n",
       "      <td>Helsinki</td>\n",
       "      <td>Finland</td>\n",
       "      <td>Pakkahuoneenlaituri</td>\n",
       "      <td>30</td>\n",
       "      <td>130</td>\n",
       "      <td>2019-08-01</td>\n",
       "      <td>12:00:00</td>\n",
       "    </tr>\n",
       "    <tr>\n",
       "      <td>4</td>\n",
       "      <td>[2019-08-01, 12:00:00Z]</td>\n",
       "      <td>0e4c038648ee23899b76befdddd03584c991c201f5450a...</td>\n",
       "      <td>60.16544</td>\n",
       "      <td>24.95398</td>\n",
       "      <td>0000000038d83d41</td>\n",
       "      <td>20.28</td>\n",
       "      <td>-92</td>\n",
       "      <td>Pakkahuoneenlaituri</td>\n",
       "      <td>00100</td>\n",
       "      <td>Helsinki</td>\n",
       "      <td>Finland</td>\n",
       "      <td>Pakkahuoneenlaituri</td>\n",
       "      <td>30</td>\n",
       "      <td>130</td>\n",
       "      <td>2019-08-01</td>\n",
       "      <td>12:00:00</td>\n",
       "    </tr>\n",
       "  </tbody>\n",
       "</table>\n",
       "</div>"
      ],
      "text/plain": [
       "                      time                                               hash  \\\n",
       "0  [2019-08-01, 12:00:00Z]  144afc51fc2443c7031a2912566eff2ce60226a49d6d2b...   \n",
       "1  [2019-08-01, 12:00:00Z]  14c7e1511b70f4dd3359cbece1377aebb4d70531f5489e...   \n",
       "2  [2019-08-01, 12:00:00Z]  165ebbb4090d47319ae370f0d0854fdc1f6b79499f8b2e...   \n",
       "3  [2019-08-01, 12:00:00Z]  f0658ab84466fd2b70b305787976c9cc96062ec03a8307...   \n",
       "4  [2019-08-01, 12:00:00Z]  0e4c038648ee23899b76befdddd03584c991c201f5450a...   \n",
       "\n",
       "   latitude_x  longitude_x            serial  distance  rssi  \\\n",
       "0    60.16544     24.95398  0000000038d83d41     17.40   -90   \n",
       "1    60.16544     24.95398  0000000038d83d41     27.28   -96   \n",
       "2    60.16544     24.95398  0000000038d83d41     27.28   -96   \n",
       "3    60.16544     24.95398  0000000038d83d41     11.70   -85   \n",
       "4    60.16544     24.95398  0000000038d83d41     20.28   -92   \n",
       "\n",
       "               address postalcode      city  country          description  \\\n",
       "0  Pakkahuoneenlaituri      00100  Helsinki  Finland  Pakkahuoneenlaituri   \n",
       "1  Pakkahuoneenlaituri      00100  Helsinki  Finland  Pakkahuoneenlaituri   \n",
       "2  Pakkahuoneenlaituri      00100  Helsinki  Finland  Pakkahuoneenlaituri   \n",
       "3  Pakkahuoneenlaituri      00100  Helsinki  Finland  Pakkahuoneenlaituri   \n",
       "4  Pakkahuoneenlaituri      00100  Helsinki  Finland  Pakkahuoneenlaituri   \n",
       "\n",
       "   size  counts       date     times  \n",
       "0    30     130 2019-08-01  12:00:00  \n",
       "1    30     130 2019-08-01  12:00:00  \n",
       "2    30     130 2019-08-01  12:00:00  \n",
       "3    30     130 2019-08-01  12:00:00  \n",
       "4    30     130 2019-08-01  12:00:00  "
      ]
     },
     "execution_count": 20,
     "metadata": {},
     "output_type": "execute_result"
    }
   ],
   "source": [
    "df2.head(5)"
   ]
  },
  {
   "cell_type": "code",
   "execution_count": 21,
   "metadata": {},
   "outputs": [],
   "source": [
    "# import plotly.express as px\n",
    "\n",
    "# px.set_mapbox_access_token('pk.eyJ1IjoiYmxlc3NlZDY2IiwiYSI6ImNrMWhudTkzbDBoYzMzaHBjZm90OGZkcWMifQ.opsS4eksuFXKYgh4x_T4Sg')\n",
    "# px.scatter_mapbox(df2,\n",
    "#                   size = 'counts',\n",
    "#                  lat='latitude_x',\n",
    "#                  lon='longitude_x',\n",
    "#                  animation_frame='hash')"
   ]
  },
  {
   "cell_type": "code",
   "execution_count": 22,
   "metadata": {},
   "outputs": [],
   "source": [
    "url2 = \"http://opendata.fmi.fi/wfs\"\n",
    "url2 = 'https://p.hsl.fi/api/v1/facilities.json'\n",
    "\n",
    "response2 = requests.request('GET',url=url2)"
   ]
  },
  {
   "cell_type": "code",
   "execution_count": 23,
   "metadata": {},
   "outputs": [
    {
     "data": {
      "text/plain": [
       "200"
      ]
     },
     "execution_count": 23,
     "metadata": {},
     "output_type": "execute_result"
    }
   ],
   "source": [
    "response2.status_code"
   ]
  },
  {
   "cell_type": "code",
   "execution_count": 24,
   "metadata": {},
   "outputs": [
    {
     "data": {
      "text/plain": [
       "'/Users/admin/teaching-monolith/python/top-down'"
      ]
     },
     "execution_count": 24,
     "metadata": {},
     "output_type": "execute_result"
    }
   ],
   "source": [
    "import os\n",
    "\n",
    "os.getcwd()"
   ]
  },
  {
   "cell_type": "code",
   "execution_count": 25,
   "metadata": {},
   "outputs": [
    {
     "data": {
      "text/html": [
       "<div>\n",
       "<style scoped>\n",
       "    .dataframe tbody tr th:only-of-type {\n",
       "        vertical-align: middle;\n",
       "    }\n",
       "\n",
       "    .dataframe tbody tr th {\n",
       "        vertical-align: top;\n",
       "    }\n",
       "\n",
       "    .dataframe thead th {\n",
       "        text-align: right;\n",
       "    }\n",
       "</style>\n",
       "<table border=\"1\" class=\"dataframe\">\n",
       "  <thead>\n",
       "    <tr style=\"text-align: right;\">\n",
       "      <th></th>\n",
       "      <th>piste</th>\n",
       "      <th>nimi</th>\n",
       "      <th>x_gk25</th>\n",
       "      <th>y_gk25</th>\n",
       "      <th>aika</th>\n",
       "      <th>ha</th>\n",
       "      <th>pa</th>\n",
       "      <th>ka</th>\n",
       "      <th>ra</th>\n",
       "      <th>la</th>\n",
       "      <th>mp</th>\n",
       "      <th>rv</th>\n",
       "      <th>year</th>\n",
       "      <th>direction</th>\n",
       "      <th>car_pool</th>\n",
       "    </tr>\n",
       "  </thead>\n",
       "  <tbody>\n",
       "    <tr>\n",
       "      <td>0</td>\n",
       "      <td>A01</td>\n",
       "      <td>LAUTTASAAREN SILTA</td>\n",
       "      <td>25494426</td>\n",
       "      <td>6672169</td>\n",
       "      <td>0</td>\n",
       "      <td>76</td>\n",
       "      <td>5</td>\n",
       "      <td>1</td>\n",
       "      <td>0</td>\n",
       "      <td>5</td>\n",
       "      <td>0</td>\n",
       "      <td>0</td>\n",
       "      <td>2011</td>\n",
       "      <td>1.0</td>\n",
       "      <td>87</td>\n",
       "    </tr>\n",
       "    <tr>\n",
       "      <td>1</td>\n",
       "      <td>A01</td>\n",
       "      <td>LAUTTASAAREN SILTA</td>\n",
       "      <td>25494426</td>\n",
       "      <td>6672169</td>\n",
       "      <td>100</td>\n",
       "      <td>65</td>\n",
       "      <td>5</td>\n",
       "      <td>1</td>\n",
       "      <td>0</td>\n",
       "      <td>4</td>\n",
       "      <td>0</td>\n",
       "      <td>0</td>\n",
       "      <td>2011</td>\n",
       "      <td>1.0</td>\n",
       "      <td>75</td>\n",
       "    </tr>\n",
       "    <tr>\n",
       "      <td>2</td>\n",
       "      <td>A01</td>\n",
       "      <td>LAUTTASAAREN SILTA</td>\n",
       "      <td>25494426</td>\n",
       "      <td>6672169</td>\n",
       "      <td>200</td>\n",
       "      <td>61</td>\n",
       "      <td>4</td>\n",
       "      <td>1</td>\n",
       "      <td>0</td>\n",
       "      <td>4</td>\n",
       "      <td>0</td>\n",
       "      <td>0</td>\n",
       "      <td>2011</td>\n",
       "      <td>1.0</td>\n",
       "      <td>70</td>\n",
       "    </tr>\n",
       "    <tr>\n",
       "      <td>3</td>\n",
       "      <td>A01</td>\n",
       "      <td>LAUTTASAAREN SILTA</td>\n",
       "      <td>25494426</td>\n",
       "      <td>6672169</td>\n",
       "      <td>300</td>\n",
       "      <td>52</td>\n",
       "      <td>4</td>\n",
       "      <td>1</td>\n",
       "      <td>0</td>\n",
       "      <td>3</td>\n",
       "      <td>0</td>\n",
       "      <td>0</td>\n",
       "      <td>2011</td>\n",
       "      <td>1.0</td>\n",
       "      <td>60</td>\n",
       "    </tr>\n",
       "    <tr>\n",
       "      <td>4</td>\n",
       "      <td>A01</td>\n",
       "      <td>LAUTTASAAREN SILTA</td>\n",
       "      <td>25494426</td>\n",
       "      <td>6672169</td>\n",
       "      <td>400</td>\n",
       "      <td>31</td>\n",
       "      <td>2</td>\n",
       "      <td>0</td>\n",
       "      <td>0</td>\n",
       "      <td>2</td>\n",
       "      <td>0</td>\n",
       "      <td>0</td>\n",
       "      <td>2011</td>\n",
       "      <td>1.0</td>\n",
       "      <td>35</td>\n",
       "    </tr>\n",
       "  </tbody>\n",
       "</table>\n",
       "</div>"
      ],
      "text/plain": [
       "  piste                nimi    x_gk25   y_gk25  aika  ha  pa  ka  ra  la  mp  \\\n",
       "0   A01  LAUTTASAAREN SILTA  25494426  6672169     0  76   5   1   0   5   0   \n",
       "1   A01  LAUTTASAAREN SILTA  25494426  6672169   100  65   5   1   0   4   0   \n",
       "2   A01  LAUTTASAAREN SILTA  25494426  6672169   200  61   4   1   0   4   0   \n",
       "3   A01  LAUTTASAAREN SILTA  25494426  6672169   300  52   4   1   0   3   0   \n",
       "4   A01  LAUTTASAAREN SILTA  25494426  6672169   400  31   2   0   0   2   0   \n",
       "\n",
       "   rv  year  direction  car_pool  \n",
       "0   0  2011        1.0        87  \n",
       "1   0  2011        1.0        75  \n",
       "2   0  2011        1.0        70  \n",
       "3   0  2011        1.0        60  \n",
       "4   0  2011        1.0        35  "
      ]
     },
     "execution_count": 25,
     "metadata": {},
     "output_type": "execute_result"
    }
   ],
   "source": [
    "traffic_volumes = pd.read_csv('hki_liikennemaarat.csv',encoding='latin-1', sep=';')\n",
    "\n",
    "#translate\n",
    "traffic_volumes['year'] = traffic_volumes['vuosi']\n",
    "traffic_volumes['direction'] = traffic_volumes['suunta']\n",
    "traffic_volumes['car_pool'] = traffic_volumes['autot']\n",
    "\n",
    "traffic_volumes = traffic_volumes.drop(['vuosi','suunta','autot'],axis=1)\n",
    "traffic_volumes.head(5)"
   ]
  },
  {
   "cell_type": "code",
   "execution_count": 26,
   "metadata": {},
   "outputs": [
    {
     "data": {
      "text/plain": [
       "array([2011, 2012, 2013, 2014, 2015, 2016, 2017, 2018])"
      ]
     },
     "execution_count": 26,
     "metadata": {},
     "output_type": "execute_result"
    }
   ],
   "source": [
    "traffic_volumes['year'].unique()"
   ]
  },
  {
   "cell_type": "code",
   "execution_count": 27,
   "metadata": {},
   "outputs": [
    {
     "data": {
      "text/plain": [
       "(3875,)"
      ]
     },
     "execution_count": 27,
     "metadata": {},
     "output_type": "execute_result"
    }
   ],
   "source": [
    "df2['hash'].shape"
   ]
  },
  {
   "cell_type": "code",
   "execution_count": 35,
   "metadata": {},
   "outputs": [],
   "source": [
    "weather = pd.read_csv('Helsinki weather data_english.csv',sep=';')"
   ]
  },
  {
   "cell_type": "code",
   "execution_count": 36,
   "metadata": {},
   "outputs": [
    {
     "data": {
      "text/html": [
       "<div>\n",
       "<style scoped>\n",
       "    .dataframe tbody tr th:only-of-type {\n",
       "        vertical-align: middle;\n",
       "    }\n",
       "\n",
       "    .dataframe tbody tr th {\n",
       "        vertical-align: top;\n",
       "    }\n",
       "\n",
       "    .dataframe thead th {\n",
       "        text-align: right;\n",
       "    }\n",
       "</style>\n",
       "<table border=\"1\" class=\"dataframe\">\n",
       "  <thead>\n",
       "    <tr style=\"text-align: right;\">\n",
       "      <th></th>\n",
       "      <th>Year</th>\n",
       "      <th>Month</th>\n",
       "      <th>Day</th>\n",
       "      <th>Time</th>\n",
       "      <th>Time Zone</th>\n",
       "      <th>Amount of clouds  (1/8)</th>\n",
       "      <th>Air pressure (msl) (hPa)</th>\n",
       "      <th>Relative humidity (%)</th>\n",
       "      <th>Rain intensity (mm/h)</th>\n",
       "      <th>Depth of snow (cm)</th>\n",
       "      <th>Air temperature (degC)</th>\n",
       "      <th>Dev point temperature (degC)</th>\n",
       "      <th>Visibility (m)</th>\n",
       "      <th>Wind direction (deg)</th>\n",
       "      <th>Gust speed (m/s)</th>\n",
       "      <th>Wind speed (m/s)</th>\n",
       "    </tr>\n",
       "  </thead>\n",
       "  <tbody>\n",
       "    <tr>\n",
       "      <td>0</td>\n",
       "      <td>2019</td>\n",
       "      <td>7</td>\n",
       "      <td>1</td>\n",
       "      <td>0.0</td>\n",
       "      <td>UTC</td>\n",
       "      <td>3.0</td>\n",
       "      <td>996.01.00</td>\n",
       "      <td>82.0</td>\n",
       "      <td>0</td>\n",
       "      <td>-1.0</td>\n",
       "      <td>16.04</td>\n",
       "      <td>13.03</td>\n",
       "      <td>50000.0</td>\n",
       "      <td>190.0</td>\n",
       "      <td>5.03</td>\n",
       "      <td>3.02</td>\n",
       "    </tr>\n",
       "    <tr>\n",
       "      <td>1</td>\n",
       "      <td>2019</td>\n",
       "      <td>7</td>\n",
       "      <td>1</td>\n",
       "      <td>0.1</td>\n",
       "      <td>UTC</td>\n",
       "      <td>3.0</td>\n",
       "      <td>996</td>\n",
       "      <td>83.0</td>\n",
       "      <td>0</td>\n",
       "      <td>-1.0</td>\n",
       "      <td>16.05</td>\n",
       "      <td>13.05</td>\n",
       "      <td>47280.0</td>\n",
       "      <td>196.0</td>\n",
       "      <td>6.01</td>\n",
       "      <td>3.08</td>\n",
       "    </tr>\n",
       "    <tr>\n",
       "      <td>2</td>\n",
       "      <td>2019</td>\n",
       "      <td>7</td>\n",
       "      <td>1</td>\n",
       "      <td>0.2</td>\n",
       "      <td>UTC</td>\n",
       "      <td>3.0</td>\n",
       "      <td>995.08.00</td>\n",
       "      <td>84.0</td>\n",
       "      <td>0</td>\n",
       "      <td>-1.0</td>\n",
       "      <td>16.02</td>\n",
       "      <td>13.05</td>\n",
       "      <td>49920.0</td>\n",
       "      <td>196.0</td>\n",
       "      <td>6.04</td>\n",
       "      <td>3.03</td>\n",
       "    </tr>\n",
       "    <tr>\n",
       "      <td>3</td>\n",
       "      <td>2019</td>\n",
       "      <td>7</td>\n",
       "      <td>1</td>\n",
       "      <td>0.3</td>\n",
       "      <td>UTC</td>\n",
       "      <td>1.0</td>\n",
       "      <td>995.06.00</td>\n",
       "      <td>84.0</td>\n",
       "      <td>0</td>\n",
       "      <td>-1.0</td>\n",
       "      <td>16.03</td>\n",
       "      <td>13.05</td>\n",
       "      <td>39970.0</td>\n",
       "      <td>192.0</td>\n",
       "      <td>5.04</td>\n",
       "      <td>3.02</td>\n",
       "    </tr>\n",
       "    <tr>\n",
       "      <td>4</td>\n",
       "      <td>2019</td>\n",
       "      <td>7</td>\n",
       "      <td>1</td>\n",
       "      <td>0.4</td>\n",
       "      <td>UTC</td>\n",
       "      <td>1.0</td>\n",
       "      <td>995.07.00</td>\n",
       "      <td>83.0</td>\n",
       "      <td>0</td>\n",
       "      <td>-1.0</td>\n",
       "      <td>16.03</td>\n",
       "      <td>13.04</td>\n",
       "      <td>43530.0</td>\n",
       "      <td>194.0</td>\n",
       "      <td>5.08</td>\n",
       "      <td>3.07</td>\n",
       "    </tr>\n",
       "    <tr>\n",
       "      <td>5</td>\n",
       "      <td>2019</td>\n",
       "      <td>7</td>\n",
       "      <td>1</td>\n",
       "      <td>0.5</td>\n",
       "      <td>UTC</td>\n",
       "      <td>1.0</td>\n",
       "      <td>995.04.00</td>\n",
       "      <td>82.0</td>\n",
       "      <td>0</td>\n",
       "      <td>-1.0</td>\n",
       "      <td>16.02</td>\n",
       "      <td>13.01</td>\n",
       "      <td>43860.0</td>\n",
       "      <td>206.0</td>\n",
       "      <td>7.01</td>\n",
       "      <td>4.00</td>\n",
       "    </tr>\n",
       "    <tr>\n",
       "      <td>6</td>\n",
       "      <td>2019</td>\n",
       "      <td>7</td>\n",
       "      <td>1</td>\n",
       "      <td>1.0</td>\n",
       "      <td>UTC</td>\n",
       "      <td>1.0</td>\n",
       "      <td>995.01.00</td>\n",
       "      <td>81.0</td>\n",
       "      <td>0</td>\n",
       "      <td>-1.0</td>\n",
       "      <td>16.04</td>\n",
       "      <td>13.01</td>\n",
       "      <td>47740.0</td>\n",
       "      <td>195.0</td>\n",
       "      <td>5.07</td>\n",
       "      <td>3.03</td>\n",
       "    </tr>\n",
       "    <tr>\n",
       "      <td>7</td>\n",
       "      <td>2019</td>\n",
       "      <td>7</td>\n",
       "      <td>1</td>\n",
       "      <td>1.1</td>\n",
       "      <td>UTC</td>\n",
       "      <td>5.0</td>\n",
       "      <td>995.01.00</td>\n",
       "      <td>82.0</td>\n",
       "      <td>0</td>\n",
       "      <td>-1.0</td>\n",
       "      <td>16.03</td>\n",
       "      <td>13.03</td>\n",
       "      <td>50000.0</td>\n",
       "      <td>192.0</td>\n",
       "      <td>6.02</td>\n",
       "      <td>3.02</td>\n",
       "    </tr>\n",
       "    <tr>\n",
       "      <td>8</td>\n",
       "      <td>2019</td>\n",
       "      <td>7</td>\n",
       "      <td>1</td>\n",
       "      <td>1.2</td>\n",
       "      <td>UTC</td>\n",
       "      <td>5.0</td>\n",
       "      <td>995</td>\n",
       "      <td>83.0</td>\n",
       "      <td>0</td>\n",
       "      <td>-1.0</td>\n",
       "      <td>16.03</td>\n",
       "      <td>13.04</td>\n",
       "      <td>41370.0</td>\n",
       "      <td>188.0</td>\n",
       "      <td>5.04</td>\n",
       "      <td>3.01</td>\n",
       "    </tr>\n",
       "    <tr>\n",
       "      <td>9</td>\n",
       "      <td>2019</td>\n",
       "      <td>7</td>\n",
       "      <td>1</td>\n",
       "      <td>1.3</td>\n",
       "      <td>UTC</td>\n",
       "      <td>5.0</td>\n",
       "      <td>995</td>\n",
       "      <td>83.0</td>\n",
       "      <td>0</td>\n",
       "      <td>-1.0</td>\n",
       "      <td>16.02</td>\n",
       "      <td>13.04</td>\n",
       "      <td>39850.0</td>\n",
       "      <td>197.0</td>\n",
       "      <td>5.07</td>\n",
       "      <td>3.05</td>\n",
       "    </tr>\n",
       "    <tr>\n",
       "      <td>10</td>\n",
       "      <td>2019</td>\n",
       "      <td>7</td>\n",
       "      <td>1</td>\n",
       "      <td>1.4</td>\n",
       "      <td>UTC</td>\n",
       "      <td>1.0</td>\n",
       "      <td>994.07.00</td>\n",
       "      <td>84.0</td>\n",
       "      <td>0</td>\n",
       "      <td>-1.0</td>\n",
       "      <td>16</td>\n",
       "      <td>13.03</td>\n",
       "      <td>44950.0</td>\n",
       "      <td>182.0</td>\n",
       "      <td>5.01</td>\n",
       "      <td>3.02</td>\n",
       "    </tr>\n",
       "    <tr>\n",
       "      <td>11</td>\n",
       "      <td>2019</td>\n",
       "      <td>7</td>\n",
       "      <td>1</td>\n",
       "      <td>1.5</td>\n",
       "      <td>UTC</td>\n",
       "      <td>1.0</td>\n",
       "      <td>994.03.00</td>\n",
       "      <td>84.0</td>\n",
       "      <td>0</td>\n",
       "      <td>-1.0</td>\n",
       "      <td>16</td>\n",
       "      <td>13.03</td>\n",
       "      <td>44170.0</td>\n",
       "      <td>182.0</td>\n",
       "      <td>4.07</td>\n",
       "      <td>2.08</td>\n",
       "    </tr>\n",
       "    <tr>\n",
       "      <td>12</td>\n",
       "      <td>2019</td>\n",
       "      <td>7</td>\n",
       "      <td>1</td>\n",
       "      <td>2.0</td>\n",
       "      <td>UTC</td>\n",
       "      <td>1.0</td>\n",
       "      <td>994.03.00</td>\n",
       "      <td>84.0</td>\n",
       "      <td>0</td>\n",
       "      <td>-1.0</td>\n",
       "      <td>16.01</td>\n",
       "      <td>13.03</td>\n",
       "      <td>45080.0</td>\n",
       "      <td>180.0</td>\n",
       "      <td>5.02</td>\n",
       "      <td>2.09</td>\n",
       "    </tr>\n",
       "    <tr>\n",
       "      <td>13</td>\n",
       "      <td>2019</td>\n",
       "      <td>7</td>\n",
       "      <td>1</td>\n",
       "      <td>2.1</td>\n",
       "      <td>UTC</td>\n",
       "      <td>1.0</td>\n",
       "      <td>994.01.00</td>\n",
       "      <td>83.0</td>\n",
       "      <td>0</td>\n",
       "      <td>-1.0</td>\n",
       "      <td>16.01</td>\n",
       "      <td>13.03</td>\n",
       "      <td>41740.0</td>\n",
       "      <td>191.0</td>\n",
       "      <td>4.03</td>\n",
       "      <td>2.06</td>\n",
       "    </tr>\n",
       "    <tr>\n",
       "      <td>14</td>\n",
       "      <td>2019</td>\n",
       "      <td>7</td>\n",
       "      <td>1</td>\n",
       "      <td>2.2</td>\n",
       "      <td>UTC</td>\n",
       "      <td>1.0</td>\n",
       "      <td>993.08.00</td>\n",
       "      <td>84.0</td>\n",
       "      <td>0</td>\n",
       "      <td>-1.0</td>\n",
       "      <td>16</td>\n",
       "      <td>13.03</td>\n",
       "      <td>45660.0</td>\n",
       "      <td>182.0</td>\n",
       "      <td>4.09</td>\n",
       "      <td>3.00</td>\n",
       "    </tr>\n",
       "    <tr>\n",
       "      <td>15</td>\n",
       "      <td>2019</td>\n",
       "      <td>7</td>\n",
       "      <td>1</td>\n",
       "      <td>2.3</td>\n",
       "      <td>UTC</td>\n",
       "      <td>1.0</td>\n",
       "      <td>993.06.00</td>\n",
       "      <td>85.0</td>\n",
       "      <td>0</td>\n",
       "      <td>-1.0</td>\n",
       "      <td>15.09</td>\n",
       "      <td>13.04</td>\n",
       "      <td>38500.0</td>\n",
       "      <td>172.0</td>\n",
       "      <td>4.00</td>\n",
       "      <td>2.05</td>\n",
       "    </tr>\n",
       "    <tr>\n",
       "      <td>16</td>\n",
       "      <td>2019</td>\n",
       "      <td>7</td>\n",
       "      <td>1</td>\n",
       "      <td>2.4</td>\n",
       "      <td>UTC</td>\n",
       "      <td>1.0</td>\n",
       "      <td>993.07.00</td>\n",
       "      <td>85.0</td>\n",
       "      <td>0</td>\n",
       "      <td>-1.0</td>\n",
       "      <td>16</td>\n",
       "      <td>13.06</td>\n",
       "      <td>46570.0</td>\n",
       "      <td>169.0</td>\n",
       "      <td>4.09</td>\n",
       "      <td>2.06</td>\n",
       "    </tr>\n",
       "    <tr>\n",
       "      <td>17</td>\n",
       "      <td>2019</td>\n",
       "      <td>7</td>\n",
       "      <td>1</td>\n",
       "      <td>2.5</td>\n",
       "      <td>UTC</td>\n",
       "      <td>1.0</td>\n",
       "      <td>993.05.00</td>\n",
       "      <td>84.0</td>\n",
       "      <td>0</td>\n",
       "      <td>-1.0</td>\n",
       "      <td>16.03</td>\n",
       "      <td>13.06</td>\n",
       "      <td>34950.0</td>\n",
       "      <td>177.0</td>\n",
       "      <td>6.02</td>\n",
       "      <td>3.02</td>\n",
       "    </tr>\n",
       "    <tr>\n",
       "      <td>18</td>\n",
       "      <td>2019</td>\n",
       "      <td>7</td>\n",
       "      <td>1</td>\n",
       "      <td>3.0</td>\n",
       "      <td>UTC</td>\n",
       "      <td>1.0</td>\n",
       "      <td>993.05.00</td>\n",
       "      <td>83.0</td>\n",
       "      <td>0</td>\n",
       "      <td>-1.0</td>\n",
       "      <td>16.05</td>\n",
       "      <td>13.06</td>\n",
       "      <td>47000.0</td>\n",
       "      <td>181.0</td>\n",
       "      <td>5.07</td>\n",
       "      <td>3.01</td>\n",
       "    </tr>\n",
       "    <tr>\n",
       "      <td>19</td>\n",
       "      <td>2019</td>\n",
       "      <td>7</td>\n",
       "      <td>1</td>\n",
       "      <td>3.1</td>\n",
       "      <td>UTC</td>\n",
       "      <td>1.0</td>\n",
       "      <td>993.02.00</td>\n",
       "      <td>84.0</td>\n",
       "      <td>0</td>\n",
       "      <td>-1.0</td>\n",
       "      <td>16.04</td>\n",
       "      <td>13.07</td>\n",
       "      <td>39920.0</td>\n",
       "      <td>187.0</td>\n",
       "      <td>5.04</td>\n",
       "      <td>3.02</td>\n",
       "    </tr>\n",
       "  </tbody>\n",
       "</table>\n",
       "</div>"
      ],
      "text/plain": [
       "    Year  Month  Day  Time Time Zone  Amount of clouds  (1/8)  \\\n",
       "0   2019      7    1   0.0       UTC                      3.0   \n",
       "1   2019      7    1   0.1       UTC                      3.0   \n",
       "2   2019      7    1   0.2       UTC                      3.0   \n",
       "3   2019      7    1   0.3       UTC                      1.0   \n",
       "4   2019      7    1   0.4       UTC                      1.0   \n",
       "5   2019      7    1   0.5       UTC                      1.0   \n",
       "6   2019      7    1   1.0       UTC                      1.0   \n",
       "7   2019      7    1   1.1       UTC                      5.0   \n",
       "8   2019      7    1   1.2       UTC                      5.0   \n",
       "9   2019      7    1   1.3       UTC                      5.0   \n",
       "10  2019      7    1   1.4       UTC                      1.0   \n",
       "11  2019      7    1   1.5       UTC                      1.0   \n",
       "12  2019      7    1   2.0       UTC                      1.0   \n",
       "13  2019      7    1   2.1       UTC                      1.0   \n",
       "14  2019      7    1   2.2       UTC                      1.0   \n",
       "15  2019      7    1   2.3       UTC                      1.0   \n",
       "16  2019      7    1   2.4       UTC                      1.0   \n",
       "17  2019      7    1   2.5       UTC                      1.0   \n",
       "18  2019      7    1   3.0       UTC                      1.0   \n",
       "19  2019      7    1   3.1       UTC                      1.0   \n",
       "\n",
       "   Air pressure (msl) (hPa)  Relative humidity (%) Rain intensity (mm/h)  \\\n",
       "0                 996.01.00                   82.0                     0   \n",
       "1                       996                   83.0                     0   \n",
       "2                 995.08.00                   84.0                     0   \n",
       "3                 995.06.00                   84.0                     0   \n",
       "4                 995.07.00                   83.0                     0   \n",
       "5                 995.04.00                   82.0                     0   \n",
       "6                 995.01.00                   81.0                     0   \n",
       "7                 995.01.00                   82.0                     0   \n",
       "8                       995                   83.0                     0   \n",
       "9                       995                   83.0                     0   \n",
       "10                994.07.00                   84.0                     0   \n",
       "11                994.03.00                   84.0                     0   \n",
       "12                994.03.00                   84.0                     0   \n",
       "13                994.01.00                   83.0                     0   \n",
       "14                993.08.00                   84.0                     0   \n",
       "15                993.06.00                   85.0                     0   \n",
       "16                993.07.00                   85.0                     0   \n",
       "17                993.05.00                   84.0                     0   \n",
       "18                993.05.00                   83.0                     0   \n",
       "19                993.02.00                   84.0                     0   \n",
       "\n",
       "    Depth of snow (cm) Air temperature (degC) Dev point temperature (degC)  \\\n",
       "0                 -1.0                  16.04                        13.03   \n",
       "1                 -1.0                  16.05                        13.05   \n",
       "2                 -1.0                  16.02                        13.05   \n",
       "3                 -1.0                  16.03                        13.05   \n",
       "4                 -1.0                  16.03                        13.04   \n",
       "5                 -1.0                  16.02                        13.01   \n",
       "6                 -1.0                  16.04                        13.01   \n",
       "7                 -1.0                  16.03                        13.03   \n",
       "8                 -1.0                  16.03                        13.04   \n",
       "9                 -1.0                  16.02                        13.04   \n",
       "10                -1.0                     16                        13.03   \n",
       "11                -1.0                     16                        13.03   \n",
       "12                -1.0                  16.01                        13.03   \n",
       "13                -1.0                  16.01                        13.03   \n",
       "14                -1.0                     16                        13.03   \n",
       "15                -1.0                  15.09                        13.04   \n",
       "16                -1.0                     16                        13.06   \n",
       "17                -1.0                  16.03                        13.06   \n",
       "18                -1.0                  16.05                        13.06   \n",
       "19                -1.0                  16.04                        13.07   \n",
       "\n",
       "    Visibility (m)  Wind direction (deg)  Gust speed (m/s)  Wind speed (m/s)  \n",
       "0          50000.0                 190.0              5.03              3.02  \n",
       "1          47280.0                 196.0              6.01              3.08  \n",
       "2          49920.0                 196.0              6.04              3.03  \n",
       "3          39970.0                 192.0              5.04              3.02  \n",
       "4          43530.0                 194.0              5.08              3.07  \n",
       "5          43860.0                 206.0              7.01              4.00  \n",
       "6          47740.0                 195.0              5.07              3.03  \n",
       "7          50000.0                 192.0              6.02              3.02  \n",
       "8          41370.0                 188.0              5.04              3.01  \n",
       "9          39850.0                 197.0              5.07              3.05  \n",
       "10         44950.0                 182.0              5.01              3.02  \n",
       "11         44170.0                 182.0              4.07              2.08  \n",
       "12         45080.0                 180.0              5.02              2.09  \n",
       "13         41740.0                 191.0              4.03              2.06  \n",
       "14         45660.0                 182.0              4.09              3.00  \n",
       "15         38500.0                 172.0              4.00              2.05  \n",
       "16         46570.0                 169.0              4.09              2.06  \n",
       "17         34950.0                 177.0              6.02              3.02  \n",
       "18         47000.0                 181.0              5.07              3.01  \n",
       "19         39920.0                 187.0              5.04              3.02  "
      ]
     },
     "execution_count": 36,
     "metadata": {},
     "output_type": "execute_result"
    }
   ],
   "source": [
    "weather.head(20)"
   ]
  },
  {
   "cell_type": "code",
   "execution_count": 39,
   "metadata": {},
   "outputs": [
    {
     "data": {
      "text/html": [
       "<div>\n",
       "<style scoped>\n",
       "    .dataframe tbody tr th:only-of-type {\n",
       "        vertical-align: middle;\n",
       "    }\n",
       "\n",
       "    .dataframe tbody tr th {\n",
       "        vertical-align: top;\n",
       "    }\n",
       "\n",
       "    .dataframe thead th {\n",
       "        text-align: right;\n",
       "    }\n",
       "</style>\n",
       "<table border=\"1\" class=\"dataframe\">\n",
       "  <thead>\n",
       "    <tr style=\"text-align: right;\">\n",
       "      <th></th>\n",
       "      <th>FID</th>\n",
       "      <th>ID</th>\n",
       "      <th>Nimi</th>\n",
       "      <th>Namn</th>\n",
       "      <th>Name</th>\n",
       "      <th>Osoite</th>\n",
       "      <th>Adress</th>\n",
       "      <th>Kaupunki</th>\n",
       "      <th>Stad</th>\n",
       "      <th>Operaattor</th>\n",
       "      <th>Kapasiteet</th>\n",
       "      <th>x</th>\n",
       "      <th>y</th>\n",
       "    </tr>\n",
       "  </thead>\n",
       "  <tbody>\n",
       "    <tr>\n",
       "      <td>0</td>\n",
       "      <td>1</td>\n",
       "      <td>1001</td>\n",
       "      <td>Rillitori</td>\n",
       "      <td>Rilltorget</td>\n",
       "      <td>Rillitori</td>\n",
       "      <td>Tikkurilantie 30</td>\n",
       "      <td>Dickursbyvägen 30</td>\n",
       "      <td>Vantaa</td>\n",
       "      <td>Vanda</td>\n",
       "      <td>CityBike Vantaa</td>\n",
       "      <td>20</td>\n",
       "      <td>25.051580</td>\n",
       "      <td>60.293027</td>\n",
       "    </tr>\n",
       "    <tr>\n",
       "      <td>1</td>\n",
       "      <td>2</td>\n",
       "      <td>1003</td>\n",
       "      <td>Männistönpolku</td>\n",
       "      <td>Männistöstigen</td>\n",
       "      <td>Männistönpolku</td>\n",
       "      <td>Männistönpolku 3</td>\n",
       "      <td>Männistöstigen 3</td>\n",
       "      <td>Vantaa</td>\n",
       "      <td>Vanda</td>\n",
       "      <td>CityBike Vantaa</td>\n",
       "      <td>20</td>\n",
       "      <td>25.042426</td>\n",
       "      <td>60.293216</td>\n",
       "    </tr>\n",
       "    <tr>\n",
       "      <td>2</td>\n",
       "      <td>3</td>\n",
       "      <td>1005</td>\n",
       "      <td>Tikkurilan asema</td>\n",
       "      <td>Dickursby station</td>\n",
       "      <td>Tikkurila station</td>\n",
       "      <td>Ratatie 13</td>\n",
       "      <td>Banvägen 13</td>\n",
       "      <td>Vantaa</td>\n",
       "      <td>Vanda</td>\n",
       "      <td>CityBike Vantaa</td>\n",
       "      <td>30</td>\n",
       "      <td>25.044587</td>\n",
       "      <td>60.294775</td>\n",
       "    </tr>\n",
       "    <tr>\n",
       "      <td>3</td>\n",
       "      <td>4</td>\n",
       "      <td>1007</td>\n",
       "      <td>Tikkuraitti</td>\n",
       "      <td>Dickurstråket</td>\n",
       "      <td>Tikkuraitti</td>\n",
       "      <td>Tikkuraitti 18</td>\n",
       "      <td>Dickurstråket 18</td>\n",
       "      <td>Vantaa</td>\n",
       "      <td>Vanda</td>\n",
       "      <td>CityBike Vantaa</td>\n",
       "      <td>20</td>\n",
       "      <td>25.036411</td>\n",
       "      <td>60.293413</td>\n",
       "    </tr>\n",
       "    <tr>\n",
       "      <td>4</td>\n",
       "      <td>5</td>\n",
       "      <td>1009</td>\n",
       "      <td>Maalitori</td>\n",
       "      <td>Målfärgstorget</td>\n",
       "      <td>Maalitori</td>\n",
       "      <td>Maalipolku 11</td>\n",
       "      <td>Målfärgsstigen 11</td>\n",
       "      <td>Vantaa</td>\n",
       "      <td>Vanda</td>\n",
       "      <td>CityBike Vantaa</td>\n",
       "      <td>20</td>\n",
       "      <td>25.044952</td>\n",
       "      <td>60.291863</td>\n",
       "    </tr>\n",
       "    <tr>\n",
       "      <td>5</td>\n",
       "      <td>6</td>\n",
       "      <td>1011</td>\n",
       "      <td>Virnatie</td>\n",
       "      <td>Vickervägen</td>\n",
       "      <td>Virnatie</td>\n",
       "      <td>Virnatie 1</td>\n",
       "      <td>Vickervägen 1</td>\n",
       "      <td>Vantaa</td>\n",
       "      <td>Vanda</td>\n",
       "      <td>CityBike Vantaa</td>\n",
       "      <td>20</td>\n",
       "      <td>25.033286</td>\n",
       "      <td>60.287829</td>\n",
       "    </tr>\n",
       "    <tr>\n",
       "      <td>6</td>\n",
       "      <td>7</td>\n",
       "      <td>1013</td>\n",
       "      <td>Peltolantori</td>\n",
       "      <td>Peltolatorget</td>\n",
       "      <td>Peltolantori</td>\n",
       "      <td>Peltolantie 4a</td>\n",
       "      <td>Peltolavägen 4a</td>\n",
       "      <td>Vantaa</td>\n",
       "      <td>Vanda</td>\n",
       "      <td>CityBike Vantaa</td>\n",
       "      <td>20</td>\n",
       "      <td>25.029950</td>\n",
       "      <td>60.293565</td>\n",
       "    </tr>\n",
       "    <tr>\n",
       "      <td>7</td>\n",
       "      <td>8</td>\n",
       "      <td>1015</td>\n",
       "      <td>Kurjenpolvenpuisto</td>\n",
       "      <td>Skogsnävsparken</td>\n",
       "      <td>Kurjenpolvenpuisto</td>\n",
       "      <td>Peltolantie 19</td>\n",
       "      <td>Peltolavägen 19</td>\n",
       "      <td>Vantaa</td>\n",
       "      <td>Vanda</td>\n",
       "      <td>CityBike Vantaa</td>\n",
       "      <td>20</td>\n",
       "      <td>25.018708</td>\n",
       "      <td>60.294026</td>\n",
       "    </tr>\n",
       "    <tr>\n",
       "      <td>8</td>\n",
       "      <td>9</td>\n",
       "      <td>1277</td>\n",
       "      <td>Tikkurilan urheilupuisto</td>\n",
       "      <td>Dickursby idrottspark</td>\n",
       "      <td>Tikkurila sports park</td>\n",
       "      <td>Läntinen Valkoisenlähteentie 5</td>\n",
       "      <td>Västra Vitbäcksvägen</td>\n",
       "      <td>Vantaa</td>\n",
       "      <td>Vanda</td>\n",
       "      <td>CityBike Vantaa</td>\n",
       "      <td>20</td>\n",
       "      <td>25.028427</td>\n",
       "      <td>60.299610</td>\n",
       "    </tr>\n",
       "    <tr>\n",
       "      <td>9</td>\n",
       "      <td>10</td>\n",
       "      <td>1017</td>\n",
       "      <td>Suopursunaukio</td>\n",
       "      <td>Getporsplatsen</td>\n",
       "      <td>Suopursunaukio</td>\n",
       "      <td>Kielotie 23</td>\n",
       "      <td>Konvaljvägen 23</td>\n",
       "      <td>Vantaa</td>\n",
       "      <td>Vanda</td>\n",
       "      <td>CityBike Vantaa</td>\n",
       "      <td>20</td>\n",
       "      <td>25.041870</td>\n",
       "      <td>60.299485</td>\n",
       "    </tr>\n",
       "  </tbody>\n",
       "</table>\n",
       "</div>"
      ],
      "text/plain": [
       "   FID    ID                      Nimi                   Namn  \\\n",
       "0    1  1001                 Rillitori             Rilltorget   \n",
       "1    2  1003            Männistönpolku         Männistöstigen   \n",
       "2    3  1005          Tikkurilan asema      Dickursby station   \n",
       "3    4  1007               Tikkuraitti          Dickurstråket   \n",
       "4    5  1009                 Maalitori         Målfärgstorget   \n",
       "5    6  1011                  Virnatie            Vickervägen   \n",
       "6    7  1013              Peltolantori          Peltolatorget   \n",
       "7    8  1015        Kurjenpolvenpuisto        Skogsnävsparken   \n",
       "8    9  1277  Tikkurilan urheilupuisto  Dickursby idrottspark   \n",
       "9   10  1017            Suopursunaukio         Getporsplatsen   \n",
       "\n",
       "                    Name                          Osoite  \\\n",
       "0              Rillitori                Tikkurilantie 30   \n",
       "1         Männistönpolku                Männistönpolku 3   \n",
       "2      Tikkurila station                      Ratatie 13   \n",
       "3            Tikkuraitti                  Tikkuraitti 18   \n",
       "4              Maalitori                   Maalipolku 11   \n",
       "5               Virnatie                      Virnatie 1   \n",
       "6           Peltolantori                  Peltolantie 4a   \n",
       "7     Kurjenpolvenpuisto                  Peltolantie 19   \n",
       "8  Tikkurila sports park  Läntinen Valkoisenlähteentie 5   \n",
       "9         Suopursunaukio                     Kielotie 23   \n",
       "\n",
       "                 Adress Kaupunki   Stad       Operaattor  Kapasiteet  \\\n",
       "0     Dickursbyvägen 30   Vantaa  Vanda  CityBike Vantaa          20   \n",
       "1      Männistöstigen 3   Vantaa  Vanda  CityBike Vantaa          20   \n",
       "2           Banvägen 13   Vantaa  Vanda  CityBike Vantaa          30   \n",
       "3      Dickurstråket 18   Vantaa  Vanda  CityBike Vantaa          20   \n",
       "4     Målfärgsstigen 11   Vantaa  Vanda  CityBike Vantaa          20   \n",
       "5         Vickervägen 1   Vantaa  Vanda  CityBike Vantaa          20   \n",
       "6       Peltolavägen 4a   Vantaa  Vanda  CityBike Vantaa          20   \n",
       "7       Peltolavägen 19   Vantaa  Vanda  CityBike Vantaa          20   \n",
       "8  Västra Vitbäcksvägen   Vantaa  Vanda  CityBike Vantaa          20   \n",
       "9       Konvaljvägen 23   Vantaa  Vanda  CityBike Vantaa          20   \n",
       "\n",
       "           x          y  \n",
       "0  25.051580  60.293027  \n",
       "1  25.042426  60.293216  \n",
       "2  25.044587  60.294775  \n",
       "3  25.036411  60.293413  \n",
       "4  25.044952  60.291863  \n",
       "5  25.033286  60.287829  \n",
       "6  25.029950  60.293565  \n",
       "7  25.018708  60.294026  \n",
       "8  25.028427  60.299610  \n",
       "9  25.041870  60.299485  "
      ]
     },
     "execution_count": 39,
     "metadata": {},
     "output_type": "execute_result"
    }
   ],
   "source": [
    "city_bikes = pd.read_csv('Vantaan_kaupunkipyöräasemat.csv')\n",
    "city_bikes.head(10)"
   ]
  },
  {
   "cell_type": "code",
   "execution_count": 58,
   "metadata": {},
   "outputs": [],
   "source": [
    "no1 = df2[df2['hash'] == '144afc51fc2443c7031a2912566eff2ce60226a49d6d2bd7c2923700']"
   ]
  },
  {
   "cell_type": "code",
   "execution_count": null,
   "metadata": {},
   "outputs": [],
   "source": [
    "import plotly.express as px\n",
    "\n",
    "px.set_mapbox_access_token('pk.eyJ1IjoiYmxlc3NlZDY2IiwiYSI6ImNrMWhudTkzbDBoYzMzaHBjZm90OGZkcWMifQ.opsS4eksuFXKYgh4x_T4Sg')\n",
    "px.scatter_mapbox(no1,\n",
    "                 lat='latitude_x',\n",
    "                 lon='longitude_x',\n",
    "                 animation_frame='times')"
   ]
  },
  {
   "cell_type": "code",
   "execution_count": 43,
   "metadata": {},
   "outputs": [
    {
     "data": {
      "text/plain": [
       "(100, 13)"
      ]
     },
     "execution_count": 43,
     "metadata": {},
     "output_type": "execute_result"
    }
   ],
   "source": [
    "city_bikes.shape"
   ]
  },
  {
   "cell_type": "code",
   "execution_count": null,
   "metadata": {},
   "outputs": [],
   "source": [
    "hashed = list(df2['hash'].unique())\n",
    "tidy = pd.DataFrame()\n",
    "\n",
    "for hashes,i in zip(hashed,len(hashed)):\n",
    "    'init_{}'.format(i) = df1.assign(X=df2['latitude_x'], Y=df2['longitude_x'],extreme='position_{}'.format(i),hashes = hashes)\n",
    "    tidy = pd.concat([tidy,'init_{}'.format(i)])"
   ]
  },
  {
   "cell_type": "code",
   "execution_count": 52,
   "metadata": {},
   "outputs": [],
   "source": [
    "for i in range(5):\n",
    "    'fe_{} = 2'.format(i)"
   ]
  },
  {
   "cell_type": "code",
   "execution_count": 54,
   "metadata": {},
   "outputs": [],
   "source": [
    "t = pd.DataFrame()"
   ]
  },
  {
   "cell_type": "code",
   "execution_count": 67,
   "metadata": {},
   "outputs": [],
   "source": [
    "import json\n",
    "import pandas as pd\n",
    "with open('graph.json', 'r') as f:\n",
    "    data = json.load(f)"
   ]
  },
  {
   "cell_type": "code",
   "execution_count": 115,
   "metadata": {},
   "outputs": [],
   "source": [
    "keys = ['station', 'depth', 'weight', 'stayed']\n",
    "values = data.values()\n",
    "\n",
    "dict_1 = {}\n",
    "\n",
    "for key in keys:\n",
    "    dict_1[key] = data[key]"
   ]
  },
  {
   "cell_type": "code",
   "execution_count": 132,
   "metadata": {},
   "outputs": [],
   "source": [
    "dict_1 = {'station': 'root',\n",
    " 'depth': 0,\n",
    " 'weight': 1,\n",
    " 'stayed': 0}\n",
    "dict_2 = {'depth': 1,\n",
    "    'weight': 100,\n",
    "    'stayed': 0}\n",
    "dict_3 = {'station': '000000006b44cce7',\n",
    "       'depth': 2,\n",
    "       'weight': 27,\n",
    "       'stayed': 632930}\n",
    "dict_4 = {'station': '00000000fb7600be',\n",
    "          'depth': 3,\n",
    "          'weight': 4,\n",
    "          'stayed': 35950}\n",
    "dict_5 = {'station': '000000006b44cce7',\n",
    "             'depth': 4,\n",
    "             'weight': 1,\n",
    "             'stayed': 95}\n",
    "dict_6 = {'station': '00000000fb7600be',\n",
    "                'depth': 5,\n",
    "                'weight': 1,\n",
    "                'stayed': 0}\n",
    "dict_7 = {'station': '000000006b087f40',\n",
    "             'depth': 4,\n",
    "             'weight': 2,\n",
    "             'stayed': 107}\n",
    "dict_8 = {'station': '00000000aa852af1',\n",
    "                'depth': 5,\n",
    "                'weight': 2,\n",
    "                'stayed': 61683}\n",
    "dict_9 = {'station': '00000000aa852af1',\n",
    "             'depth': 4,\n",
    "             'weight': 1,\n",
    "             'stayed': 42}\n",
    "dict_10 = {'station': '00000000afef4555',\n",
    "          'depth': 3,\n",
    "          'weight': 2,\n",
    "          'stayed': 34}\n",
    "dict_11 = {'station': '0000000019fb59c4',\n",
    "             'depth': 4,\n",
    "             'weight': 1,\n",
    "             'stayed': 19295}\n",
    "dict_12 = {'station': '0000000006dd41f6',\n",
    "                'depth': 5,\n",
    "                'weight': 1,\n",
    "                'stayed': 8}\n",
    "dict_13 = {'station': '00000000fdda10fe',\n",
    "             'depth': 4,\n",
    "             'weight': 1,\n",
    "             'stayed': 310}\n",
    "dict_14 = {'station': '0000000038bf9618',\n",
    "                'depth': 5,\n",
    "                'weight': 1,\n",
    "                'stayed': 44}\n",
    "dict_15 = {'station': '0000000038d83d41',\n",
    "          'depth': 3,\n",
    "          'weight': 2,\n",
    "          'stayed': 41803}\n",
    "dict_16 = {'station': '00000000f1124bca',\n",
    "                'depth': 5,\n",
    "                'weight': 1,\n",
    "                'stayed': 0}\n",
    "dict_17 = {'station': '0000000038bf9618',\n",
    "                'depth': 5,\n",
    "                'weight': 1,\n",
    "                'stayed': 10}\n",
    "dict_18 = {'station': '0000000038d83d41',\n",
    "          'depth': 3,\n",
    "          'weight': 2,\n",
    "          'stayed': 41803}\n",
    "dict_19 = {'station': '00000000f1124bca',\n",
    "             'depth': 4,\n",
    "             'weight': 1,\n",
    "             'stayed': 0}\n",
    "dict_20 = {'station': '0000000038bf9618',\n",
    "       'depth': 2,\n",
    "       'weight': 9,\n",
    "       'stayed': 239755}\n",
    "dict_21 = {'station': '00000000aa852af1',\n",
    "          'depth': 3,\n",
    "          'weight': 2,\n",
    "          'stayed': 67362}\n",
    "dict_22 = {'station': '000000006b44cce7',\n",
    "          'depth': 3,\n",
    "          'weight': 1,\n",
    "          'stayed': 10}\n",
    "dict_23 = {'station': '000000006b087f40',\n",
    "             'depth': 4,\n",
    "             'weight': 1,\n",
    "             'stayed': 24}\n",
    "dict_24 = {'station': '00000000aa852af1',\n",
    "             'depth': 4,\n",
    "             'weight': 1,\n",
    "             'stayed': 8}\n",
    "dict_25 = {'station': '0000000038d83d41',\n",
    "                'depth': 5,\n",
    "                'weight': 3,\n",
    "                'stayed': 111}\n",
    "\n",
    "list_dict = [dict_1,dict_2,dict_3,dict_4,dict_5,dict_6,dict_7,dict_8,dict_9,dict_10,dict_11,dict_12,dict_13,dict_14,dict_15\n",
    "            ,dict_16,dict_17,dict_18,dict_19,dict_20,dict_21,dict_22,dict_23,dict_24,dict_25]"
   ]
  },
  {
   "cell_type": "code",
   "execution_count": 135,
   "metadata": {},
   "outputs": [],
   "source": [
    "new_df = pd.DataFrame(list_dict)\n",
    "\n",
    "new_df['serial'] = new_df['station']\n",
    "\n",
    "df5 = df1.merge(new_df,on='serial')"
   ]
  },
  {
   "cell_type": "code",
   "execution_count": 141,
   "metadata": {},
   "outputs": [
    {
     "data": {
      "application/vnd.plotly.v1+json": {
       "config": {
        "plotlyServerURL": "https://plot.ly"
       },
       "data": [
        {
         "hoverlabel": {
          "namelength": 0
         },
         "hovertemplate": "<b>%{hovertext}</b><br><br>depth=3<br>stayed=%{marker.size}<br>latitude=%{lat}<br>longitude=%{lon}",
         "hovertext": [
          "0000000038d83d41",
          "0000000038d83d41",
          "000000006b44cce7",
          "00000000aa852af1",
          "00000000afef4555",
          "00000000fb7600be"
         ],
         "lat": [
          60.16544,
          60.16544,
          60.16762,
          60.16897,
          60.16829,
          60.16629
         ],
         "legendgroup": "",
         "lon": [
          24.95398,
          24.95398,
          24.95415,
          24.95222,
          24.94214,
          24.95957
         ],
         "marker": {
          "color": "#636efa",
          "size": [
           41803,
           41803,
           10,
           67362,
           34,
           35950
          ],
          "sizemode": "area",
          "sizeref": 1582.325
         },
         "mode": "markers",
         "name": "",
         "showlegend": false,
         "subplot": "mapbox",
         "type": "scattermapbox"
        }
       ],
       "frames": [
        {
         "data": [
          {
           "hoverlabel": {
            "namelength": 0
           },
           "hovertemplate": "<b>%{hovertext}</b><br><br>depth=5<br>stayed=%{marker.size}<br>latitude=%{lat}<br>longitude=%{lon}",
           "hovertext": [
            "0000000006dd41f6",
            "0000000038bf9618",
            "0000000038bf9618",
            "0000000038d83d41",
            "00000000aa852af1",
            "00000000f1124bca",
            "00000000fb7600be"
           ],
           "lat": [
            60.14951,
            60.1538,
            60.1538,
            60.16544,
            60.16897,
            60.16075,
            60.16629
           ],
           "legendgroup": "",
           "lon": [
            24.92138,
            24.95595,
            24.95595,
            24.95398,
            24.95222,
            24.95883,
            24.95957
           ],
           "marker": {
            "color": "#636efa",
            "size": [
             8,
             44,
             10,
             111,
             61683,
             0,
             0
            ],
            "sizemode": "area",
            "sizeref": 1582.325
           },
           "mode": "markers",
           "name": "",
           "showlegend": false,
           "subplot": "mapbox",
           "type": "scattermapbox"
          }
         ],
         "name": "5"
        },
        {
         "data": [
          {
           "hoverlabel": {
            "namelength": 0
           },
           "hovertemplate": "<b>%{hovertext}</b><br><br>depth=4<br>stayed=%{marker.size}<br>latitude=%{lat}<br>longitude=%{lon}",
           "hovertext": [
            "0000000019fb59c4",
            "000000006b087f40",
            "000000006b087f40",
            "000000006b44cce7",
            "00000000aa852af1",
            "00000000aa852af1",
            "00000000f1124bca",
            "00000000fdda10fe"
           ],
           "lat": [
            60.15432,
            60.17002,
            60.17002,
            60.16762,
            60.16897,
            60.16897,
            60.16075,
            60.16531
           ],
           "legendgroup": "",
           "lon": [
            24.9211,
            24.94407,
            24.94407,
            24.95415,
            24.95222,
            24.95222,
            24.95883,
            24.9442
           ],
           "marker": {
            "color": "#636efa",
            "size": [
             19295,
             107,
             24,
             95,
             42,
             8,
             0,
             310
            ],
            "sizemode": "area",
            "sizeref": 1582.325
           },
           "mode": "markers",
           "name": "",
           "showlegend": false,
           "subplot": "mapbox",
           "type": "scattermapbox"
          }
         ],
         "name": "4"
        },
        {
         "data": [
          {
           "hoverlabel": {
            "namelength": 0
           },
           "hovertemplate": "<b>%{hovertext}</b><br><br>depth=2<br>stayed=%{marker.size}<br>latitude=%{lat}<br>longitude=%{lon}",
           "hovertext": [
            "0000000038bf9618",
            "000000006b44cce7"
           ],
           "lat": [
            60.1538,
            60.16762
           ],
           "legendgroup": "",
           "lon": [
            24.95595,
            24.95415
           ],
           "marker": {
            "color": "#636efa",
            "size": [
             239755,
             632930
            ],
            "sizemode": "area",
            "sizeref": 1582.325
           },
           "mode": "markers",
           "name": "",
           "showlegend": false,
           "subplot": "mapbox",
           "type": "scattermapbox"
          }
         ],
         "name": "2"
        },
        {
         "data": [
          {
           "hoverlabel": {
            "namelength": 0
           },
           "hovertemplate": "<b>%{hovertext}</b><br><br>depth=3<br>stayed=%{marker.size}<br>latitude=%{lat}<br>longitude=%{lon}",
           "hovertext": [
            "0000000038d83d41",
            "0000000038d83d41",
            "000000006b44cce7",
            "00000000aa852af1",
            "00000000afef4555",
            "00000000fb7600be"
           ],
           "lat": [
            60.16544,
            60.16544,
            60.16762,
            60.16897,
            60.16829,
            60.16629
           ],
           "legendgroup": "",
           "lon": [
            24.95398,
            24.95398,
            24.95415,
            24.95222,
            24.94214,
            24.95957
           ],
           "marker": {
            "color": "#636efa",
            "size": [
             41803,
             41803,
             10,
             67362,
             34,
             35950
            ],
            "sizemode": "area",
            "sizeref": 1582.325
           },
           "mode": "markers",
           "name": "",
           "showlegend": false,
           "subplot": "mapbox",
           "type": "scattermapbox"
          }
         ],
         "name": "3"
        }
       ],
       "layout": {
        "autosize": true,
        "legend": {
         "itemsizing": "constant",
         "tracegroupgap": 0
        },
        "mapbox": {
         "accesstoken": "pk.eyJ1IjoiYmxlc3NlZDY2IiwiYSI6ImNrMWhudTkzbDBoYzMzaHBjZm90OGZkcWMifQ.opsS4eksuFXKYgh4x_T4Sg",
         "bearing": 148.93414543905547,
         "center": {
          "lat": 60.163443848672415,
          "lon": 24.947382789554922
         },
         "domain": {
          "x": [
           0,
           0.98
          ],
          "y": [
           0,
           1
          ]
         },
         "pitch": 29.000000000000007,
         "zoom": 12.02075514955192
        },
        "margin": {
         "t": 60
        },
        "sliders": [
         {
          "active": 3,
          "currentvalue": {
           "prefix": "depth="
          },
          "len": 0.9,
          "pad": {
           "b": 10,
           "t": 60
          },
          "steps": [
           {
            "args": [
             [
              "5"
             ],
             {
              "frame": {
               "duration": 0,
               "redraw": true
              },
              "fromcurrent": true,
              "mode": "immediate",
              "transition": {
               "duration": 0,
               "easing": "linear"
              }
             }
            ],
            "label": "5",
            "method": "animate"
           },
           {
            "args": [
             [
              "4"
             ],
             {
              "frame": {
               "duration": 0,
               "redraw": true
              },
              "fromcurrent": true,
              "mode": "immediate",
              "transition": {
               "duration": 0,
               "easing": "linear"
              }
             }
            ],
            "label": "4",
            "method": "animate"
           },
           {
            "args": [
             [
              "2"
             ],
             {
              "frame": {
               "duration": 0,
               "redraw": true
              },
              "fromcurrent": true,
              "mode": "immediate",
              "transition": {
               "duration": 0,
               "easing": "linear"
              }
             }
            ],
            "label": "2",
            "method": "animate"
           },
           {
            "args": [
             [
              "3"
             ],
             {
              "frame": {
               "duration": 0,
               "redraw": true
              },
              "fromcurrent": true,
              "mode": "immediate",
              "transition": {
               "duration": 0,
               "easing": "linear"
              }
             }
            ],
            "label": "3",
            "method": "animate"
           }
          ],
          "x": 0.1,
          "xanchor": "left",
          "y": 0,
          "yanchor": "top"
         }
        ],
        "template": {
         "data": {
          "bar": [
           {
            "error_x": {
             "color": "#2a3f5f"
            },
            "error_y": {
             "color": "#2a3f5f"
            },
            "marker": {
             "line": {
              "color": "#E5ECF6",
              "width": 0.5
             }
            },
            "type": "bar"
           }
          ],
          "barpolar": [
           {
            "marker": {
             "line": {
              "color": "#E5ECF6",
              "width": 0.5
             }
            },
            "type": "barpolar"
           }
          ],
          "carpet": [
           {
            "aaxis": {
             "endlinecolor": "#2a3f5f",
             "gridcolor": "white",
             "linecolor": "white",
             "minorgridcolor": "white",
             "startlinecolor": "#2a3f5f"
            },
            "baxis": {
             "endlinecolor": "#2a3f5f",
             "gridcolor": "white",
             "linecolor": "white",
             "minorgridcolor": "white",
             "startlinecolor": "#2a3f5f"
            },
            "type": "carpet"
           }
          ],
          "choropleth": [
           {
            "colorbar": {
             "outlinewidth": 0,
             "ticks": ""
            },
            "type": "choropleth"
           }
          ],
          "contour": [
           {
            "colorbar": {
             "outlinewidth": 0,
             "ticks": ""
            },
            "colorscale": [
             [
              0,
              "#0d0887"
             ],
             [
              0.1111111111111111,
              "#46039f"
             ],
             [
              0.2222222222222222,
              "#7201a8"
             ],
             [
              0.3333333333333333,
              "#9c179e"
             ],
             [
              0.4444444444444444,
              "#bd3786"
             ],
             [
              0.5555555555555556,
              "#d8576b"
             ],
             [
              0.6666666666666666,
              "#ed7953"
             ],
             [
              0.7777777777777778,
              "#fb9f3a"
             ],
             [
              0.8888888888888888,
              "#fdca26"
             ],
             [
              1,
              "#f0f921"
             ]
            ],
            "type": "contour"
           }
          ],
          "contourcarpet": [
           {
            "colorbar": {
             "outlinewidth": 0,
             "ticks": ""
            },
            "type": "contourcarpet"
           }
          ],
          "heatmap": [
           {
            "colorbar": {
             "outlinewidth": 0,
             "ticks": ""
            },
            "colorscale": [
             [
              0,
              "#0d0887"
             ],
             [
              0.1111111111111111,
              "#46039f"
             ],
             [
              0.2222222222222222,
              "#7201a8"
             ],
             [
              0.3333333333333333,
              "#9c179e"
             ],
             [
              0.4444444444444444,
              "#bd3786"
             ],
             [
              0.5555555555555556,
              "#d8576b"
             ],
             [
              0.6666666666666666,
              "#ed7953"
             ],
             [
              0.7777777777777778,
              "#fb9f3a"
             ],
             [
              0.8888888888888888,
              "#fdca26"
             ],
             [
              1,
              "#f0f921"
             ]
            ],
            "type": "heatmap"
           }
          ],
          "heatmapgl": [
           {
            "colorbar": {
             "outlinewidth": 0,
             "ticks": ""
            },
            "colorscale": [
             [
              0,
              "#0d0887"
             ],
             [
              0.1111111111111111,
              "#46039f"
             ],
             [
              0.2222222222222222,
              "#7201a8"
             ],
             [
              0.3333333333333333,
              "#9c179e"
             ],
             [
              0.4444444444444444,
              "#bd3786"
             ],
             [
              0.5555555555555556,
              "#d8576b"
             ],
             [
              0.6666666666666666,
              "#ed7953"
             ],
             [
              0.7777777777777778,
              "#fb9f3a"
             ],
             [
              0.8888888888888888,
              "#fdca26"
             ],
             [
              1,
              "#f0f921"
             ]
            ],
            "type": "heatmapgl"
           }
          ],
          "histogram": [
           {
            "marker": {
             "colorbar": {
              "outlinewidth": 0,
              "ticks": ""
             }
            },
            "type": "histogram"
           }
          ],
          "histogram2d": [
           {
            "colorbar": {
             "outlinewidth": 0,
             "ticks": ""
            },
            "colorscale": [
             [
              0,
              "#0d0887"
             ],
             [
              0.1111111111111111,
              "#46039f"
             ],
             [
              0.2222222222222222,
              "#7201a8"
             ],
             [
              0.3333333333333333,
              "#9c179e"
             ],
             [
              0.4444444444444444,
              "#bd3786"
             ],
             [
              0.5555555555555556,
              "#d8576b"
             ],
             [
              0.6666666666666666,
              "#ed7953"
             ],
             [
              0.7777777777777778,
              "#fb9f3a"
             ],
             [
              0.8888888888888888,
              "#fdca26"
             ],
             [
              1,
              "#f0f921"
             ]
            ],
            "type": "histogram2d"
           }
          ],
          "histogram2dcontour": [
           {
            "colorbar": {
             "outlinewidth": 0,
             "ticks": ""
            },
            "colorscale": [
             [
              0,
              "#0d0887"
             ],
             [
              0.1111111111111111,
              "#46039f"
             ],
             [
              0.2222222222222222,
              "#7201a8"
             ],
             [
              0.3333333333333333,
              "#9c179e"
             ],
             [
              0.4444444444444444,
              "#bd3786"
             ],
             [
              0.5555555555555556,
              "#d8576b"
             ],
             [
              0.6666666666666666,
              "#ed7953"
             ],
             [
              0.7777777777777778,
              "#fb9f3a"
             ],
             [
              0.8888888888888888,
              "#fdca26"
             ],
             [
              1,
              "#f0f921"
             ]
            ],
            "type": "histogram2dcontour"
           }
          ],
          "mesh3d": [
           {
            "colorbar": {
             "outlinewidth": 0,
             "ticks": ""
            },
            "type": "mesh3d"
           }
          ],
          "parcoords": [
           {
            "line": {
             "colorbar": {
              "outlinewidth": 0,
              "ticks": ""
             }
            },
            "type": "parcoords"
           }
          ],
          "scatter": [
           {
            "marker": {
             "colorbar": {
              "outlinewidth": 0,
              "ticks": ""
             }
            },
            "type": "scatter"
           }
          ],
          "scatter3d": [
           {
            "line": {
             "colorbar": {
              "outlinewidth": 0,
              "ticks": ""
             }
            },
            "marker": {
             "colorbar": {
              "outlinewidth": 0,
              "ticks": ""
             }
            },
            "type": "scatter3d"
           }
          ],
          "scattercarpet": [
           {
            "marker": {
             "colorbar": {
              "outlinewidth": 0,
              "ticks": ""
             }
            },
            "type": "scattercarpet"
           }
          ],
          "scattergeo": [
           {
            "marker": {
             "colorbar": {
              "outlinewidth": 0,
              "ticks": ""
             }
            },
            "type": "scattergeo"
           }
          ],
          "scattergl": [
           {
            "marker": {
             "colorbar": {
              "outlinewidth": 0,
              "ticks": ""
             }
            },
            "type": "scattergl"
           }
          ],
          "scattermapbox": [
           {
            "marker": {
             "colorbar": {
              "outlinewidth": 0,
              "ticks": ""
             }
            },
            "type": "scattermapbox"
           }
          ],
          "scatterpolar": [
           {
            "marker": {
             "colorbar": {
              "outlinewidth": 0,
              "ticks": ""
             }
            },
            "type": "scatterpolar"
           }
          ],
          "scatterpolargl": [
           {
            "marker": {
             "colorbar": {
              "outlinewidth": 0,
              "ticks": ""
             }
            },
            "type": "scatterpolargl"
           }
          ],
          "scatterternary": [
           {
            "marker": {
             "colorbar": {
              "outlinewidth": 0,
              "ticks": ""
             }
            },
            "type": "scatterternary"
           }
          ],
          "surface": [
           {
            "colorbar": {
             "outlinewidth": 0,
             "ticks": ""
            },
            "colorscale": [
             [
              0,
              "#0d0887"
             ],
             [
              0.1111111111111111,
              "#46039f"
             ],
             [
              0.2222222222222222,
              "#7201a8"
             ],
             [
              0.3333333333333333,
              "#9c179e"
             ],
             [
              0.4444444444444444,
              "#bd3786"
             ],
             [
              0.5555555555555556,
              "#d8576b"
             ],
             [
              0.6666666666666666,
              "#ed7953"
             ],
             [
              0.7777777777777778,
              "#fb9f3a"
             ],
             [
              0.8888888888888888,
              "#fdca26"
             ],
             [
              1,
              "#f0f921"
             ]
            ],
            "type": "surface"
           }
          ],
          "table": [
           {
            "cells": {
             "fill": {
              "color": "#EBF0F8"
             },
             "line": {
              "color": "white"
             }
            },
            "header": {
             "fill": {
              "color": "#C8D4E3"
             },
             "line": {
              "color": "white"
             }
            },
            "type": "table"
           }
          ]
         },
         "layout": {
          "annotationdefaults": {
           "arrowcolor": "#2a3f5f",
           "arrowhead": 0,
           "arrowwidth": 1
          },
          "colorscale": {
           "diverging": [
            [
             0,
             "#8e0152"
            ],
            [
             0.1,
             "#c51b7d"
            ],
            [
             0.2,
             "#de77ae"
            ],
            [
             0.3,
             "#f1b6da"
            ],
            [
             0.4,
             "#fde0ef"
            ],
            [
             0.5,
             "#f7f7f7"
            ],
            [
             0.6,
             "#e6f5d0"
            ],
            [
             0.7,
             "#b8e186"
            ],
            [
             0.8,
             "#7fbc41"
            ],
            [
             0.9,
             "#4d9221"
            ],
            [
             1,
             "#276419"
            ]
           ],
           "sequential": [
            [
             0,
             "#0d0887"
            ],
            [
             0.1111111111111111,
             "#46039f"
            ],
            [
             0.2222222222222222,
             "#7201a8"
            ],
            [
             0.3333333333333333,
             "#9c179e"
            ],
            [
             0.4444444444444444,
             "#bd3786"
            ],
            [
             0.5555555555555556,
             "#d8576b"
            ],
            [
             0.6666666666666666,
             "#ed7953"
            ],
            [
             0.7777777777777778,
             "#fb9f3a"
            ],
            [
             0.8888888888888888,
             "#fdca26"
            ],
            [
             1,
             "#f0f921"
            ]
           ],
           "sequentialminus": [
            [
             0,
             "#0d0887"
            ],
            [
             0.1111111111111111,
             "#46039f"
            ],
            [
             0.2222222222222222,
             "#7201a8"
            ],
            [
             0.3333333333333333,
             "#9c179e"
            ],
            [
             0.4444444444444444,
             "#bd3786"
            ],
            [
             0.5555555555555556,
             "#d8576b"
            ],
            [
             0.6666666666666666,
             "#ed7953"
            ],
            [
             0.7777777777777778,
             "#fb9f3a"
            ],
            [
             0.8888888888888888,
             "#fdca26"
            ],
            [
             1,
             "#f0f921"
            ]
           ]
          },
          "colorway": [
           "#636efa",
           "#EF553B",
           "#00cc96",
           "#ab63fa",
           "#FFA15A",
           "#19d3f3",
           "#FF6692",
           "#B6E880",
           "#FF97FF",
           "#FECB52"
          ],
          "font": {
           "color": "#2a3f5f"
          },
          "geo": {
           "bgcolor": "white",
           "lakecolor": "white",
           "landcolor": "#E5ECF6",
           "showlakes": true,
           "showland": true,
           "subunitcolor": "white"
          },
          "hoverlabel": {
           "align": "left"
          },
          "hovermode": "closest",
          "mapbox": {
           "style": "light"
          },
          "paper_bgcolor": "white",
          "plot_bgcolor": "#E5ECF6",
          "polar": {
           "angularaxis": {
            "gridcolor": "white",
            "linecolor": "white",
            "ticks": ""
           },
           "bgcolor": "#E5ECF6",
           "radialaxis": {
            "gridcolor": "white",
            "linecolor": "white",
            "ticks": ""
           }
          },
          "scene": {
           "xaxis": {
            "backgroundcolor": "#E5ECF6",
            "gridcolor": "white",
            "gridwidth": 2,
            "linecolor": "white",
            "showbackground": true,
            "ticks": "",
            "zerolinecolor": "white"
           },
           "yaxis": {
            "backgroundcolor": "#E5ECF6",
            "gridcolor": "white",
            "gridwidth": 2,
            "linecolor": "white",
            "showbackground": true,
            "ticks": "",
            "zerolinecolor": "white"
           },
           "zaxis": {
            "backgroundcolor": "#E5ECF6",
            "gridcolor": "white",
            "gridwidth": 2,
            "linecolor": "white",
            "showbackground": true,
            "ticks": "",
            "zerolinecolor": "white"
           }
          },
          "shapedefaults": {
           "line": {
            "color": "#2a3f5f"
           }
          },
          "ternary": {
           "aaxis": {
            "gridcolor": "white",
            "linecolor": "white",
            "ticks": ""
           },
           "baxis": {
            "gridcolor": "white",
            "linecolor": "white",
            "ticks": ""
           },
           "bgcolor": "#E5ECF6",
           "caxis": {
            "gridcolor": "white",
            "linecolor": "white",
            "ticks": ""
           }
          },
          "title": {
           "x": 0.05
          },
          "xaxis": {
           "automargin": true,
           "gridcolor": "white",
           "linecolor": "white",
           "ticks": "",
           "zerolinecolor": "white",
           "zerolinewidth": 2
          },
          "yaxis": {
           "automargin": true,
           "gridcolor": "white",
           "linecolor": "white",
           "ticks": "",
           "zerolinecolor": "white",
           "zerolinewidth": 2
          }
         }
        },
        "updatemenus": [
         {
          "active": 0,
          "buttons": [
           {
            "args": [
             null,
             {
              "frame": {
               "duration": 500,
               "redraw": true
              },
              "fromcurrent": true,
              "mode": "immediate",
              "transition": {
               "duration": 500,
               "easing": "linear"
              }
             }
            ],
            "label": "&#9654;",
            "method": "animate"
           },
           {
            "args": [
             [
              null
             ],
             {
              "frame": {
               "duration": 0,
               "redraw": true
              },
              "fromcurrent": true,
              "mode": "immediate",
              "transition": {
               "duration": 0,
               "easing": "linear"
              }
             }
            ],
            "label": "&#9724;",
            "method": "animate"
           }
          ],
          "direction": "left",
          "pad": {
           "r": 10,
           "t": 70
          },
          "showactive": false,
          "type": "buttons",
          "x": 0.1,
          "xanchor": "right",
          "y": 0,
          "yanchor": "top"
         }
        ]
       }
      },
      "image/png": "[encoded data removed]",
      "text/html": [
       "<div>\n",
       "        \n",
       "        \n",
       "            <div id=\"a490721e-88a7-48bd-ae7e-5cd025dc3b7e\" class=\"plotly-graph-div\" style=\"height:600px; width:100%;\"></div>\n",
       "            <script type=\"text/javascript\">\n",
       "                require([\"plotly\"], function(Plotly) {\n",
       "                    window.PLOTLYENV=window.PLOTLYENV || {};\n",
       "                    \n",
       "                if (document.getElementById(\"a490721e-88a7-48bd-ae7e-5cd025dc3b7e\")) {\n",
       "                    Plotly.newPlot(\n",
       "                        'a490721e-88a7-48bd-ae7e-5cd025dc3b7e',\n",
       "                        [{\"hoverlabel\": {\"namelength\": 0}, \"hovertemplate\": \"<b>%{hovertext}</b><br><br>depth=5<br>stayed=%{marker.size}<br>latitude=%{lat}<br>longitude=%{lon}\", \"hovertext\": [\"0000000006dd41f6\", \"0000000038bf9618\", \"0000000038bf9618\", \"0000000038d83d41\", \"00000000aa852af1\", \"00000000f1124bca\", \"00000000fb7600be\"], \"lat\": [60.14951, 60.1538, 60.1538, 60.16544, 60.16897, 60.16075, 60.16629], \"legendgroup\": \"\", \"lon\": [24.92138, 24.95595, 24.95595, 24.95398, 24.95222, 24.95883, 24.95957], \"marker\": {\"color\": \"#636efa\", \"size\": [8, 44, 10, 111, 61683, 0, 0], \"sizemode\": \"area\", \"sizeref\": 1582.325}, \"mode\": \"markers\", \"name\": \"\", \"showlegend\": false, \"subplot\": \"mapbox\", \"type\": \"scattermapbox\"}],\n",
       "                        {\"height\": 600, \"legend\": {\"itemsizing\": \"constant\", \"tracegroupgap\": 0}, \"mapbox\": {\"accesstoken\": \"pk.eyJ1IjoiYmxlc3NlZDY2IiwiYSI6ImNrMWhudTkzbDBoYzMzaHBjZm90OGZkcWMifQ.opsS4eksuFXKYgh4x_T4Sg\", \"center\": {\"lat\": 60.16382652173912, \"lon\": 24.95021217391304}, \"domain\": {\"x\": [0.0, 0.98], \"y\": [0.0, 1.0]}, \"zoom\": 8}, \"margin\": {\"t\": 60}, \"sliders\": [{\"active\": 0, \"currentvalue\": {\"prefix\": \"depth=\"}, \"len\": 0.9, \"pad\": {\"b\": 10, \"t\": 60}, \"steps\": [{\"args\": [[\"5\"], {\"frame\": {\"duration\": 0, \"redraw\": true}, \"fromcurrent\": true, \"mode\": \"immediate\", \"transition\": {\"duration\": 0, \"easing\": \"linear\"}}], \"label\": \"5\", \"method\": \"animate\"}, {\"args\": [[\"4\"], {\"frame\": {\"duration\": 0, \"redraw\": true}, \"fromcurrent\": true, \"mode\": \"immediate\", \"transition\": {\"duration\": 0, \"easing\": \"linear\"}}], \"label\": \"4\", \"method\": \"animate\"}, {\"args\": [[\"2\"], {\"frame\": {\"duration\": 0, \"redraw\": true}, \"fromcurrent\": true, \"mode\": \"immediate\", \"transition\": {\"duration\": 0, \"easing\": \"linear\"}}], \"label\": \"2\", \"method\": \"animate\"}, {\"args\": [[\"3\"], {\"frame\": {\"duration\": 0, \"redraw\": true}, \"fromcurrent\": true, \"mode\": \"immediate\", \"transition\": {\"duration\": 0, \"easing\": \"linear\"}}], \"label\": \"3\", \"method\": \"animate\"}], \"x\": 0.1, \"xanchor\": \"left\", \"y\": 0, \"yanchor\": \"top\"}], \"template\": {\"data\": {\"bar\": [{\"error_x\": {\"color\": \"#2a3f5f\"}, \"error_y\": {\"color\": \"#2a3f5f\"}, \"marker\": {\"line\": {\"color\": \"#E5ECF6\", \"width\": 0.5}}, \"type\": \"bar\"}], \"barpolar\": [{\"marker\": {\"line\": {\"color\": \"#E5ECF6\", \"width\": 0.5}}, \"type\": \"barpolar\"}], \"carpet\": [{\"aaxis\": {\"endlinecolor\": \"#2a3f5f\", \"gridcolor\": \"white\", \"linecolor\": \"white\", \"minorgridcolor\": \"white\", \"startlinecolor\": \"#2a3f5f\"}, \"baxis\": {\"endlinecolor\": \"#2a3f5f\", \"gridcolor\": \"white\", \"linecolor\": \"white\", \"minorgridcolor\": \"white\", \"startlinecolor\": \"#2a3f5f\"}, \"type\": \"carpet\"}], \"choropleth\": [{\"colorbar\": {\"outlinewidth\": 0, \"ticks\": \"\"}, \"type\": \"choropleth\"}], \"contour\": [{\"colorbar\": {\"outlinewidth\": 0, \"ticks\": \"\"}, \"colorscale\": [[0.0, \"#0d0887\"], [0.1111111111111111, \"#46039f\"], [0.2222222222222222, \"#7201a8\"], [0.3333333333333333, \"#9c179e\"], [0.4444444444444444, \"#bd3786\"], [0.5555555555555556, \"#d8576b\"], [0.6666666666666666, \"#ed7953\"], [0.7777777777777778, \"#fb9f3a\"], [0.8888888888888888, \"#fdca26\"], [1.0, \"#f0f921\"]], \"type\": \"contour\"}], \"contourcarpet\": [{\"colorbar\": {\"outlinewidth\": 0, \"ticks\": \"\"}, \"type\": \"contourcarpet\"}], \"heatmap\": [{\"colorbar\": {\"outlinewidth\": 0, \"ticks\": \"\"}, \"colorscale\": [[0.0, \"#0d0887\"], [0.1111111111111111, \"#46039f\"], [0.2222222222222222, \"#7201a8\"], [0.3333333333333333, \"#9c179e\"], [0.4444444444444444, \"#bd3786\"], [0.5555555555555556, \"#d8576b\"], [0.6666666666666666, \"#ed7953\"], [0.7777777777777778, \"#fb9f3a\"], [0.8888888888888888, \"#fdca26\"], [1.0, \"#f0f921\"]], \"type\": \"heatmap\"}], \"heatmapgl\": [{\"colorbar\": {\"outlinewidth\": 0, \"ticks\": \"\"}, \"colorscale\": [[0.0, \"#0d0887\"], [0.1111111111111111, \"#46039f\"], [0.2222222222222222, \"#7201a8\"], [0.3333333333333333, \"#9c179e\"], [0.4444444444444444, \"#bd3786\"], [0.5555555555555556, \"#d8576b\"], [0.6666666666666666, \"#ed7953\"], [0.7777777777777778, \"#fb9f3a\"], [0.8888888888888888, \"#fdca26\"], [1.0, \"#f0f921\"]], \"type\": \"heatmapgl\"}], \"histogram\": [{\"marker\": {\"colorbar\": {\"outlinewidth\": 0, \"ticks\": \"\"}}, \"type\": \"histogram\"}], \"histogram2d\": [{\"colorbar\": {\"outlinewidth\": 0, \"ticks\": \"\"}, \"colorscale\": [[0.0, \"#0d0887\"], [0.1111111111111111, \"#46039f\"], [0.2222222222222222, \"#7201a8\"], [0.3333333333333333, \"#9c179e\"], [0.4444444444444444, \"#bd3786\"], [0.5555555555555556, \"#d8576b\"], [0.6666666666666666, \"#ed7953\"], [0.7777777777777778, \"#fb9f3a\"], [0.8888888888888888, \"#fdca26\"], [1.0, \"#f0f921\"]], \"type\": \"histogram2d\"}], \"histogram2dcontour\": [{\"colorbar\": {\"outlinewidth\": 0, \"ticks\": \"\"}, \"colorscale\": [[0.0, \"#0d0887\"], [0.1111111111111111, \"#46039f\"], [0.2222222222222222, \"#7201a8\"], [0.3333333333333333, \"#9c179e\"], [0.4444444444444444, \"#bd3786\"], [0.5555555555555556, \"#d8576b\"], [0.6666666666666666, \"#ed7953\"], [0.7777777777777778, \"#fb9f3a\"], [0.8888888888888888, \"#fdca26\"], [1.0, \"#f0f921\"]], \"type\": \"histogram2dcontour\"}], \"mesh3d\": [{\"colorbar\": {\"outlinewidth\": 0, \"ticks\": \"\"}, \"type\": \"mesh3d\"}], \"parcoords\": [{\"line\": {\"colorbar\": {\"outlinewidth\": 0, \"ticks\": \"\"}}, \"type\": \"parcoords\"}], \"scatter\": [{\"marker\": {\"colorbar\": {\"outlinewidth\": 0, \"ticks\": \"\"}}, \"type\": \"scatter\"}], \"scatter3d\": [{\"line\": {\"colorbar\": {\"outlinewidth\": 0, \"ticks\": \"\"}}, \"marker\": {\"colorbar\": {\"outlinewidth\": 0, \"ticks\": \"\"}}, \"type\": \"scatter3d\"}], \"scattercarpet\": [{\"marker\": {\"colorbar\": {\"outlinewidth\": 0, \"ticks\": \"\"}}, \"type\": \"scattercarpet\"}], \"scattergeo\": [{\"marker\": {\"colorbar\": {\"outlinewidth\": 0, \"ticks\": \"\"}}, \"type\": \"scattergeo\"}], \"scattergl\": [{\"marker\": {\"colorbar\": {\"outlinewidth\": 0, \"ticks\": \"\"}}, \"type\": \"scattergl\"}], \"scattermapbox\": [{\"marker\": {\"colorbar\": {\"outlinewidth\": 0, \"ticks\": \"\"}}, \"type\": \"scattermapbox\"}], \"scatterpolar\": [{\"marker\": {\"colorbar\": {\"outlinewidth\": 0, \"ticks\": \"\"}}, \"type\": \"scatterpolar\"}], \"scatterpolargl\": [{\"marker\": {\"colorbar\": {\"outlinewidth\": 0, \"ticks\": \"\"}}, \"type\": \"scatterpolargl\"}], \"scatterternary\": [{\"marker\": {\"colorbar\": {\"outlinewidth\": 0, \"ticks\": \"\"}}, \"type\": \"scatterternary\"}], \"surface\": [{\"colorbar\": {\"outlinewidth\": 0, \"ticks\": \"\"}, \"colorscale\": [[0.0, \"#0d0887\"], [0.1111111111111111, \"#46039f\"], [0.2222222222222222, \"#7201a8\"], [0.3333333333333333, \"#9c179e\"], [0.4444444444444444, \"#bd3786\"], [0.5555555555555556, \"#d8576b\"], [0.6666666666666666, \"#ed7953\"], [0.7777777777777778, \"#fb9f3a\"], [0.8888888888888888, \"#fdca26\"], [1.0, \"#f0f921\"]], \"type\": \"surface\"}], \"table\": [{\"cells\": {\"fill\": {\"color\": \"#EBF0F8\"}, \"line\": {\"color\": \"white\"}}, \"header\": {\"fill\": {\"color\": \"#C8D4E3\"}, \"line\": {\"color\": \"white\"}}, \"type\": \"table\"}]}, \"layout\": {\"annotationdefaults\": {\"arrowcolor\": \"#2a3f5f\", \"arrowhead\": 0, \"arrowwidth\": 1}, \"colorscale\": {\"diverging\": [[0, \"#8e0152\"], [0.1, \"#c51b7d\"], [0.2, \"#de77ae\"], [0.3, \"#f1b6da\"], [0.4, \"#fde0ef\"], [0.5, \"#f7f7f7\"], [0.6, \"#e6f5d0\"], [0.7, \"#b8e186\"], [0.8, \"#7fbc41\"], [0.9, \"#4d9221\"], [1, \"#276419\"]], \"sequential\": [[0.0, \"#0d0887\"], [0.1111111111111111, \"#46039f\"], [0.2222222222222222, \"#7201a8\"], [0.3333333333333333, \"#9c179e\"], [0.4444444444444444, \"#bd3786\"], [0.5555555555555556, \"#d8576b\"], [0.6666666666666666, \"#ed7953\"], [0.7777777777777778, \"#fb9f3a\"], [0.8888888888888888, \"#fdca26\"], [1.0, \"#f0f921\"]], \"sequentialminus\": [[0.0, \"#0d0887\"], [0.1111111111111111, \"#46039f\"], [0.2222222222222222, \"#7201a8\"], [0.3333333333333333, \"#9c179e\"], [0.4444444444444444, \"#bd3786\"], [0.5555555555555556, \"#d8576b\"], [0.6666666666666666, \"#ed7953\"], [0.7777777777777778, \"#fb9f3a\"], [0.8888888888888888, \"#fdca26\"], [1.0, \"#f0f921\"]]}, \"colorway\": [\"#636efa\", \"#EF553B\", \"#00cc96\", \"#ab63fa\", \"#FFA15A\", \"#19d3f3\", \"#FF6692\", \"#B6E880\", \"#FF97FF\", \"#FECB52\"], \"font\": {\"color\": \"#2a3f5f\"}, \"geo\": {\"bgcolor\": \"white\", \"lakecolor\": \"white\", \"landcolor\": \"#E5ECF6\", \"showlakes\": true, \"showland\": true, \"subunitcolor\": \"white\"}, \"hoverlabel\": {\"align\": \"left\"}, \"hovermode\": \"closest\", \"mapbox\": {\"style\": \"light\"}, \"paper_bgcolor\": \"white\", \"plot_bgcolor\": \"#E5ECF6\", \"polar\": {\"angularaxis\": {\"gridcolor\": \"white\", \"linecolor\": \"white\", \"ticks\": \"\"}, \"bgcolor\": \"#E5ECF6\", \"radialaxis\": {\"gridcolor\": \"white\", \"linecolor\": \"white\", \"ticks\": \"\"}}, \"scene\": {\"xaxis\": {\"backgroundcolor\": \"#E5ECF6\", \"gridcolor\": \"white\", \"gridwidth\": 2, \"linecolor\": \"white\", \"showbackground\": true, \"ticks\": \"\", \"zerolinecolor\": \"white\"}, \"yaxis\": {\"backgroundcolor\": \"#E5ECF6\", \"gridcolor\": \"white\", \"gridwidth\": 2, \"linecolor\": \"white\", \"showbackground\": true, \"ticks\": \"\", \"zerolinecolor\": \"white\"}, \"zaxis\": {\"backgroundcolor\": \"#E5ECF6\", \"gridcolor\": \"white\", \"gridwidth\": 2, \"linecolor\": \"white\", \"showbackground\": true, \"ticks\": \"\", \"zerolinecolor\": \"white\"}}, \"shapedefaults\": {\"line\": {\"color\": \"#2a3f5f\"}}, \"ternary\": {\"aaxis\": {\"gridcolor\": \"white\", \"linecolor\": \"white\", \"ticks\": \"\"}, \"baxis\": {\"gridcolor\": \"white\", \"linecolor\": \"white\", \"ticks\": \"\"}, \"bgcolor\": \"#E5ECF6\", \"caxis\": {\"gridcolor\": \"white\", \"linecolor\": \"white\", \"ticks\": \"\"}}, \"title\": {\"x\": 0.05}, \"xaxis\": {\"automargin\": true, \"gridcolor\": \"white\", \"linecolor\": \"white\", \"ticks\": \"\", \"zerolinecolor\": \"white\", \"zerolinewidth\": 2}, \"yaxis\": {\"automargin\": true, \"gridcolor\": \"white\", \"linecolor\": \"white\", \"ticks\": \"\", \"zerolinecolor\": \"white\", \"zerolinewidth\": 2}}}, \"updatemenus\": [{\"buttons\": [{\"args\": [null, {\"frame\": {\"duration\": 500, \"redraw\": true}, \"fromcurrent\": true, \"mode\": \"immediate\", \"transition\": {\"duration\": 500, \"easing\": \"linear\"}}], \"label\": \"&#9654;\", \"method\": \"animate\"}, {\"args\": [[null], {\"frame\": {\"duration\": 0, \"redraw\": true}, \"fromcurrent\": true, \"mode\": \"immediate\", \"transition\": {\"duration\": 0, \"easing\": \"linear\"}}], \"label\": \"&#9724;\", \"method\": \"animate\"}], \"direction\": \"left\", \"pad\": {\"r\": 10, \"t\": 70}, \"showactive\": false, \"type\": \"buttons\", \"x\": 0.1, \"xanchor\": \"right\", \"y\": 0, \"yanchor\": \"top\"}]},\n",
       "                        {\"responsive\": true}\n",
       "                    ).then(function(){\n",
       "                            Plotly.addFrames('a490721e-88a7-48bd-ae7e-5cd025dc3b7e', [{\"data\": [{\"hoverlabel\": {\"namelength\": 0}, \"hovertemplate\": \"<b>%{hovertext}</b><br><br>depth=5<br>stayed=%{marker.size}<br>latitude=%{lat}<br>longitude=%{lon}\", \"hovertext\": [\"0000000006dd41f6\", \"0000000038bf9618\", \"0000000038bf9618\", \"0000000038d83d41\", \"00000000aa852af1\", \"00000000f1124bca\", \"00000000fb7600be\"], \"lat\": [60.14951, 60.1538, 60.1538, 60.16544, 60.16897, 60.16075, 60.16629], \"legendgroup\": \"\", \"lon\": [24.92138, 24.95595, 24.95595, 24.95398, 24.95222, 24.95883, 24.95957], \"marker\": {\"color\": \"#636efa\", \"size\": [8, 44, 10, 111, 61683, 0, 0], \"sizemode\": \"area\", \"sizeref\": 1582.325}, \"mode\": \"markers\", \"name\": \"\", \"showlegend\": false, \"subplot\": \"mapbox\", \"type\": \"scattermapbox\"}], \"name\": \"5\"}, {\"data\": [{\"hoverlabel\": {\"namelength\": 0}, \"hovertemplate\": \"<b>%{hovertext}</b><br><br>depth=4<br>stayed=%{marker.size}<br>latitude=%{lat}<br>longitude=%{lon}\", \"hovertext\": [\"0000000019fb59c4\", \"000000006b087f40\", \"000000006b087f40\", \"000000006b44cce7\", \"00000000aa852af1\", \"00000000aa852af1\", \"00000000f1124bca\", \"00000000fdda10fe\"], \"lat\": [60.15432, 60.17002, 60.17002, 60.16762, 60.16897, 60.16897, 60.16075, 60.16531], \"legendgroup\": \"\", \"lon\": [24.9211, 24.94407, 24.94407, 24.95415, 24.95222, 24.95222, 24.95883, 24.9442], \"marker\": {\"color\": \"#636efa\", \"size\": [19295, 107, 24, 95, 42, 8, 0, 310], \"sizemode\": \"area\", \"sizeref\": 1582.325}, \"mode\": \"markers\", \"name\": \"\", \"showlegend\": false, \"subplot\": \"mapbox\", \"type\": \"scattermapbox\"}], \"name\": \"4\"}, {\"data\": [{\"hoverlabel\": {\"namelength\": 0}, \"hovertemplate\": \"<b>%{hovertext}</b><br><br>depth=2<br>stayed=%{marker.size}<br>latitude=%{lat}<br>longitude=%{lon}\", \"hovertext\": [\"0000000038bf9618\", \"000000006b44cce7\"], \"lat\": [60.1538, 60.16762], \"legendgroup\": \"\", \"lon\": [24.95595, 24.95415], \"marker\": {\"color\": \"#636efa\", \"size\": [239755, 632930], \"sizemode\": \"area\", \"sizeref\": 1582.325}, \"mode\": \"markers\", \"name\": \"\", \"showlegend\": false, \"subplot\": \"mapbox\", \"type\": \"scattermapbox\"}], \"name\": \"2\"}, {\"data\": [{\"hoverlabel\": {\"namelength\": 0}, \"hovertemplate\": \"<b>%{hovertext}</b><br><br>depth=3<br>stayed=%{marker.size}<br>latitude=%{lat}<br>longitude=%{lon}\", \"hovertext\": [\"0000000038d83d41\", \"0000000038d83d41\", \"000000006b44cce7\", \"00000000aa852af1\", \"00000000afef4555\", \"00000000fb7600be\"], \"lat\": [60.16544, 60.16544, 60.16762, 60.16897, 60.16829, 60.16629], \"legendgroup\": \"\", \"lon\": [24.95398, 24.95398, 24.95415, 24.95222, 24.94214, 24.95957], \"marker\": {\"color\": \"#636efa\", \"size\": [41803, 41803, 10, 67362, 34, 35950], \"sizemode\": \"area\", \"sizeref\": 1582.325}, \"mode\": \"markers\", \"name\": \"\", \"showlegend\": false, \"subplot\": \"mapbox\", \"type\": \"scattermapbox\"}], \"name\": \"3\"}]);\n",
       "                        }).then(function(){\n",
       "                            \n",
       "var gd = document.getElementById('a490721e-88a7-48bd-ae7e-5cd025dc3b7e');\n",
       "var x = new MutationObserver(function (mutations, observer) {{\n",
       "        var display = window.getComputedStyle(gd).display;\n",
       "        if (!display || display === 'none') {{\n",
       "            console.log([gd, 'removed!']);\n",
       "            Plotly.purge(gd);\n",
       "            observer.disconnect();\n",
       "        }}\n",
       "}});\n",
       "\n",
       "// Listen for the removal of the full notebook cells\n",
       "var notebookContainer = gd.closest('#notebook-container');\n",
       "if (notebookContainer) {{\n",
       "    x.observe(notebookContainer, {childList: true});\n",
       "}}\n",
       "\n",
       "// Listen for the clearing of the current output cell\n",
       "var outputEl = gd.closest('.output');\n",
       "if (outputEl) {{\n",
       "    x.observe(outputEl, {childList: true});\n",
       "}}\n",
       "\n",
       "                        })\n",
       "                };\n",
       "                });\n",
       "            </script>\n",
       "        </div>"
      ]
     },
     "metadata": {},
     "output_type": "display_data"
    }
   ],
   "source": [
    "import plotly.express as px\n",
    "\n",
    "px.set_mapbox_access_token('pk.eyJ1IjoiYmxlc3NlZDY2IiwiYSI6ImNrMWhudTkzbDBoYzMzaHBjZm90OGZkcWMifQ.opsS4eksuFXKYgh4x_T4Sg')\n",
    "px.scatter_mapbox(df5,\n",
    "                  size = 'stayed',\n",
    "                 lat='latitude',\n",
    "                 lon='longitude',\n",
    "                 hover_name='station',\n",
    "                 animation_frame='depth')"
   ]
  },
  {
   "cell_type": "code",
   "execution_count": 136,
   "metadata": {},
   "outputs": [
    {
     "data": {
      "text/html": [
       "<div>\n",
       "<style scoped>\n",
       "    .dataframe tbody tr th:only-of-type {\n",
       "        vertical-align: middle;\n",
       "    }\n",
       "\n",
       "    .dataframe tbody tr th {\n",
       "        vertical-align: top;\n",
       "    }\n",
       "\n",
       "    .dataframe thead th {\n",
       "        text-align: right;\n",
       "    }\n",
       "</style>\n",
       "<table border=\"1\" class=\"dataframe\">\n",
       "  <thead>\n",
       "    <tr style=\"text-align: right;\">\n",
       "      <th></th>\n",
       "      <th>serial</th>\n",
       "      <th>address</th>\n",
       "      <th>postalcode</th>\n",
       "      <th>city</th>\n",
       "      <th>country</th>\n",
       "      <th>description</th>\n",
       "      <th>latitude</th>\n",
       "      <th>longitude</th>\n",
       "      <th>group</th>\n",
       "      <th>alias</th>\n",
       "      <th>size</th>\n",
       "      <th>station</th>\n",
       "      <th>depth</th>\n",
       "      <th>weight</th>\n",
       "      <th>stayed</th>\n",
       "    </tr>\n",
       "  </thead>\n",
       "  <tbody>\n",
       "    <tr>\n",
       "      <td>0</td>\n",
       "      <td>0000000006dd41f6</td>\n",
       "      <td>Munkkisaarenlaituri</td>\n",
       "      <td>00150</td>\n",
       "      <td>Helsinki</td>\n",
       "      <td>Finland</td>\n",
       "      <td>Hernesaari LHC</td>\n",
       "      <td>60.14951</td>\n",
       "      <td>24.92138</td>\n",
       "      <td>hernesaari</td>\n",
       "      <td>None</td>\n",
       "      <td>30</td>\n",
       "      <td>0000000006dd41f6</td>\n",
       "      <td>5</td>\n",
       "      <td>1</td>\n",
       "      <td>8</td>\n",
       "    </tr>\n",
       "    <tr>\n",
       "      <td>1</td>\n",
       "      <td>0000000019fb59c4</td>\n",
       "      <td>Tyynenmerenkatu 8</td>\n",
       "      <td>00220</td>\n",
       "      <td>Helsinki</td>\n",
       "      <td>Finland</td>\n",
       "      <td>Lansiterminaali 1</td>\n",
       "      <td>60.15432</td>\n",
       "      <td>24.92110</td>\n",
       "      <td>lansiterminaali</td>\n",
       "      <td>None</td>\n",
       "      <td>30</td>\n",
       "      <td>0000000019fb59c4</td>\n",
       "      <td>4</td>\n",
       "      <td>1</td>\n",
       "      <td>19295</td>\n",
       "    </tr>\n",
       "    <tr>\n",
       "      <td>2</td>\n",
       "      <td>0000000038bf9618</td>\n",
       "      <td>Mattolaituri</td>\n",
       "      <td>00140</td>\n",
       "      <td>Helsinki</td>\n",
       "      <td>Finland</td>\n",
       "      <td>Kaivopuiston ranta</td>\n",
       "      <td>60.15380</td>\n",
       "      <td>24.95595</td>\n",
       "      <td>default</td>\n",
       "      <td>None</td>\n",
       "      <td>30</td>\n",
       "      <td>0000000038bf9618</td>\n",
       "      <td>5</td>\n",
       "      <td>1</td>\n",
       "      <td>44</td>\n",
       "    </tr>\n",
       "    <tr>\n",
       "      <td>3</td>\n",
       "      <td>0000000038bf9618</td>\n",
       "      <td>Mattolaituri</td>\n",
       "      <td>00140</td>\n",
       "      <td>Helsinki</td>\n",
       "      <td>Finland</td>\n",
       "      <td>Kaivopuiston ranta</td>\n",
       "      <td>60.15380</td>\n",
       "      <td>24.95595</td>\n",
       "      <td>default</td>\n",
       "      <td>None</td>\n",
       "      <td>30</td>\n",
       "      <td>0000000038bf9618</td>\n",
       "      <td>5</td>\n",
       "      <td>1</td>\n",
       "      <td>10</td>\n",
       "    </tr>\n",
       "    <tr>\n",
       "      <td>4</td>\n",
       "      <td>0000000038bf9618</td>\n",
       "      <td>Mattolaituri</td>\n",
       "      <td>00140</td>\n",
       "      <td>Helsinki</td>\n",
       "      <td>Finland</td>\n",
       "      <td>Kaivopuiston ranta</td>\n",
       "      <td>60.15380</td>\n",
       "      <td>24.95595</td>\n",
       "      <td>default</td>\n",
       "      <td>None</td>\n",
       "      <td>30</td>\n",
       "      <td>0000000038bf9618</td>\n",
       "      <td>2</td>\n",
       "      <td>9</td>\n",
       "      <td>239755</td>\n",
       "    </tr>\n",
       "  </tbody>\n",
       "</table>\n",
       "</div>"
      ],
      "text/plain": [
       "             serial              address postalcode      city  country  \\\n",
       "0  0000000006dd41f6  Munkkisaarenlaituri      00150  Helsinki  Finland   \n",
       "1  0000000019fb59c4    Tyynenmerenkatu 8      00220  Helsinki  Finland   \n",
       "2  0000000038bf9618         Mattolaituri      00140  Helsinki  Finland   \n",
       "3  0000000038bf9618         Mattolaituri      00140  Helsinki  Finland   \n",
       "4  0000000038bf9618         Mattolaituri      00140  Helsinki  Finland   \n",
       "\n",
       "          description  latitude  longitude            group alias  size  \\\n",
       "0      Hernesaari LHC  60.14951   24.92138       hernesaari  None    30   \n",
       "1   Lansiterminaali 1  60.15432   24.92110  lansiterminaali  None    30   \n",
       "2  Kaivopuiston ranta  60.15380   24.95595          default  None    30   \n",
       "3  Kaivopuiston ranta  60.15380   24.95595          default  None    30   \n",
       "4  Kaivopuiston ranta  60.15380   24.95595          default  None    30   \n",
       "\n",
       "            station  depth  weight  stayed  \n",
       "0  0000000006dd41f6      5       1       8  \n",
       "1  0000000019fb59c4      4       1   19295  \n",
       "2  0000000038bf9618      5       1      44  \n",
       "3  0000000038bf9618      5       1      10  \n",
       "4  0000000038bf9618      2       9  239755  "
      ]
     },
     "execution_count": 136,
     "metadata": {},
     "output_type": "execute_result"
    }
   ],
   "source": [
    "df5.head(5)"
   ]
  },
  {
   "cell_type": "code",
   "execution_count": 86,
   "metadata": {},
   "outputs": [
    {
     "data": {
      "text/html": [
       "<div>\n",
       "<style scoped>\n",
       "    .dataframe tbody tr th:only-of-type {\n",
       "        vertical-align: middle;\n",
       "    }\n",
       "\n",
       "    .dataframe tbody tr th {\n",
       "        vertical-align: top;\n",
       "    }\n",
       "\n",
       "    .dataframe thead th {\n",
       "        text-align: right;\n",
       "    }\n",
       "</style>\n",
       "<table border=\"1\" class=\"dataframe\">\n",
       "  <thead>\n",
       "    <tr style=\"text-align: right;\">\n",
       "      <th></th>\n",
       "      <th>station</th>\n",
       "      <th>depth</th>\n",
       "      <th>weight</th>\n",
       "      <th>stayed</th>\n",
       "      <th>children</th>\n",
       "    </tr>\n",
       "  </thead>\n",
       "  <tbody>\n",
       "    <tr>\n",
       "      <td>0</td>\n",
       "      <td>root</td>\n",
       "      <td>0</td>\n",
       "      <td>1</td>\n",
       "      <td>0</td>\n",
       "      <td>[{'depth': 1, 'weight': 100, 'stayed': 0, 'chi...</td>\n",
       "    </tr>\n",
       "  </tbody>\n",
       "</table>\n",
       "</div>"
      ],
      "text/plain": [
       "  station  depth  weight  stayed  \\\n",
       "0    root      0       1       0   \n",
       "\n",
       "                                            children  \n",
       "0  [{'depth': 1, 'weight': 100, 'stayed': 0, 'chi...  "
      ]
     },
     "execution_count": 86,
     "metadata": {},
     "output_type": "execute_result"
    }
   ],
   "source": [
    "move_df"
   ]
  },
  {
   "cell_type": "code",
   "execution_count": null,
   "metadata": {},
   "outputs": [],
   "source": []
  }
 ],
 "metadata": {
  "kernelspec": {
   "display_name": "Python [conda env:dsr] *",
   "language": "python",
   "name": "conda-env-dsr-py"
  },
  "language_info": {
   "codemirror_mode": {
    "name": "ipython",
    "version": 3
   },
   "file_extension": ".py",
   "mimetype": "text/x-python",
   "name": "python",
   "nbconvert_exporter": "python",
   "pygments_lexer": "ipython3",
   "version": "3.6.9"
  }
 },
 "nbformat": 4,
 "nbformat_minor": 4
}
